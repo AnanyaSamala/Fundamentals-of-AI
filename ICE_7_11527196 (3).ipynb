{
 "cells": [
  {
   "cell_type": "markdown",
   "metadata": {},
   "source": [
    "# ICE-7"
   ]
  },
  {
   "cell_type": "markdown",
   "metadata": {},
   "source": [
    "# Ananya Samala- 11527196"
   ]
  },
  {
   "cell_type": "markdown",
   "metadata": {
    "id": "sNjjVC2a2fzK"
   },
   "source": [
    "# 1. Negation: ¬p"
   ]
  },
  {
   "cell_type": "code",
   "execution_count": 22,
   "metadata": {
    "colab": {
     "base_uri": "https://localhost:8080/"
    },
    "id": "FRao8Dqk-EeZ",
    "outputId": "cb53553a-40ad-4dfe-f400-4261ba425dc7"
   },
   "outputs": [
    {
     "name": "stdout",
     "output_type": "stream",
     "text": [
      "p\t~p\n",
      "True False\n",
      "False True\n"
     ]
    }
   ],
   "source": [
    "def negation (p):\n",
    "  return not p\n",
    "\n",
    "print (\"p\\t~p\")\n",
    "\n",
    "for p in [True, False]:\n",
    "  a= negation (p)\n",
    "  print (p,a)\n"
   ]
  },
  {
   "cell_type": "markdown",
   "metadata": {
    "id": "dETTfF072haA"
   },
   "source": [
    "# 2.Conjunction: p ∧ q"
   ]
  },
  {
   "cell_type": "code",
   "execution_count": 67,
   "metadata": {
    "colab": {
     "base_uri": "https://localhost:8080/"
    },
    "id": "ASuZ8U6t_bhc",
    "outputId": "6d5e18b5-cb18-4484-e82d-a1b3f36dbba5"
   },
   "outputs": [
    {
     "name": "stdout",
     "output_type": "stream",
     "text": [
      "P\tQ P^Q\n",
      "True True True\n",
      "True False False\n",
      "False True False\n",
      "False False False\n"
     ]
    }
   ],
   "source": [
    "def conjunction (p,q):\n",
    "  return p and q\n",
    "\n",
    "print ('P\\tQ P^Q')\n",
    "\n",
    "for p in [True, False]:\n",
    "  for q in[True, False]:\n",
    "    a= conjunction(p,q)\n",
    "    print (p, q, a)"
   ]
  },
  {
   "cell_type": "markdown",
   "metadata": {
    "id": "jyqOzV1C2jGH"
   },
   "source": [
    "# 3.Disjunction: p ∨ q"
   ]
  },
  {
   "cell_type": "code",
   "execution_count": 35,
   "metadata": {
    "colab": {
     "base_uri": "https://localhost:8080/"
    },
    "id": "JpiF8gkxD9wN",
    "outputId": "68474ef7-a2f0-4ebb-9d93-860b2c1cf6f5"
   },
   "outputs": [
    {
     "name": "stdout",
     "output_type": "stream",
     "text": [
      "P\tQ p ∨ q\n",
      "True True True\n",
      "True False True\n",
      "False True True\n",
      "False False False\n"
     ]
    }
   ],
   "source": [
    "def disjunction (p,q):\n",
    "  return p or q\n",
    "\n",
    "print ('P\\tQ p ∨ q')\n",
    "\n",
    "for p in [True, False]:\n",
    "  for q in[True, False]:\n",
    "    a= disjunction(p,q)\n",
    "    print(p,q,a)\n",
    "\n"
   ]
  },
  {
   "cell_type": "markdown",
   "metadata": {
    "id": "faOMq5Sn2kLP"
   },
   "source": [
    "# 4.Implication: p ⟹ q"
   ]
  },
  {
   "cell_type": "code",
   "execution_count": 36,
   "metadata": {
    "colab": {
     "base_uri": "https://localhost:8080/"
    },
    "id": "MoVa30HKD9sY",
    "outputId": "1a51c986-cdd1-4071-e262-f04589b2b27e"
   },
   "outputs": [
    {
     "name": "stdout",
     "output_type": "stream",
     "text": [
      "P\tQ p ⟹ q\n",
      "True True True\n",
      "True False False\n",
      "False True True\n",
      "False False True\n"
     ]
    }
   ],
   "source": [
    "def implication (p,q):\n",
    "  return not (p) or q\n",
    "\n",
    "print ('P\\tQ p ⟹ q')\n",
    "\n",
    "for p in [True, False]:\n",
    "  for q in[True, False]:\n",
    "    a= implication (p,q)\n",
    "    print(p,q,a)\n",
    "\n"
   ]
  },
  {
   "cell_type": "markdown",
   "metadata": {
    "id": "nRmYTM_S2lbk"
   },
   "source": [
    "# 5.Bi-Implication: p ⟺ q "
   ]
  },
  {
   "cell_type": "code",
   "execution_count": 38,
   "metadata": {
    "colab": {
     "base_uri": "https://localhost:8080/"
    },
    "id": "-N6jPvRJD9pD",
    "outputId": "f3499cac-ff63-4eeb-93f8-0babec51ab94"
   },
   "outputs": [
    {
     "name": "stdout",
     "output_type": "stream",
     "text": [
      "P \tQ p ⟺ q\n",
      "True True True\n",
      "True False True\n",
      "False True False\n",
      "False False True\n"
     ]
    }
   ],
   "source": [
    "def biimplication (p,q):\n",
    "  return (a and p) or (not a and not p)\n",
    "\n",
    "print ('P \\tQ p ⟺ q')\n",
    "\n",
    "for p in [True, False]:\n",
    "  for q in[True, False]:\n",
    "    a= biimplication (p,q)\n",
    "    print(p,q,a)\n",
    "\n"
   ]
  },
  {
   "cell_type": "markdown",
   "metadata": {
    "id": "nNpxPGR42mjQ"
   },
   "source": [
    "# 6.Contradiction: p∧¬p "
   ]
  },
  {
   "cell_type": "code",
   "execution_count": 39,
   "metadata": {
    "colab": {
     "base_uri": "https://localhost:8080/"
    },
    "id": "nZUHhLqUD9mE",
    "outputId": "360e01a3-87f6-4622-b817-7095ecb80cb6"
   },
   "outputs": [
    {
     "name": "stdout",
     "output_type": "stream",
     "text": [
      "P \tQ p∧¬p\n",
      "True False False\n",
      "False True False\n"
     ]
    }
   ],
   "source": [
    "def contradiction (p):\n",
    "  return p and not(p)\n",
    "\n",
    "def negation (p):\n",
    "  return not p\n",
    "\n",
    "print ('P \\tQ p∧¬p')\n",
    "\n",
    "for p in [True, False]:\n",
    "  a= contradiction (p)\n",
    "  b= negation (p)\n",
    "  print (p,b,a)\n"
   ]
  },
  {
   "cell_type": "markdown",
   "metadata": {
    "id": "3XocXHNF2n__"
   },
   "source": [
    "# 7.Compound Propositions"
   ]
  },
  {
   "cell_type": "markdown",
   "metadata": {},
   "source": [
    "# a. (p ∧ q) ∨ ¬q"
   ]
  },
  {
   "cell_type": "code",
   "execution_count": 40,
   "metadata": {
    "colab": {
     "base_uri": "https://localhost:8080/"
    },
    "id": "GeXBrLw-D9i3",
    "outputId": "e89367b6-d7d3-4ab0-d77f-59eaefb3e2a7"
   },
   "outputs": [
    {
     "name": "stdout",
     "output_type": "stream",
     "text": [
      "P \tQ p ∧ q) ∨ ¬q\n",
      "True True True\n",
      "True False True\n",
      "False True False\n",
      "False False True\n"
     ]
    }
   ],
   "source": [
    "print ('P \\tQ p ∧ q) ∨ ¬q')\n",
    "\n",
    "for p in [True, False]:\n",
    "  for q in[True, False]:\n",
    "    a= disjunction( conjunction(p,q), not(q))\n",
    "    print (p,q,a)"
   ]
  },
  {
   "cell_type": "markdown",
   "metadata": {
    "id": "b1zid7kL4f4Y"
   },
   "source": [
    "# b.(p∨¬q) ∧ ¬p"
   ]
  },
  {
   "cell_type": "code",
   "execution_count": 41,
   "metadata": {
    "colab": {
     "base_uri": "https://localhost:8080/"
    },
    "id": "ubGri8fZ2dKC",
    "outputId": "f9679c8e-e77b-4bc2-e4d2-4b62b733f9f4"
   },
   "outputs": [
    {
     "name": "stdout",
     "output_type": "stream",
     "text": [
      "P\tQ (p∨¬q) ∧ ¬p\n",
      "True True False\n",
      "True False False\n",
      "False True False\n",
      "False False True\n"
     ]
    }
   ],
   "source": [
    "print ('P\\tQ (p∨¬q) ∧ ¬p')\n",
    "\n",
    "for p in [True, False]:\n",
    "  for q in[True, False]:\n",
    "    a= conjunction( disjunction(p, not(q)), not(p))\n",
    "    print (p,q,a)"
   ]
  },
  {
   "cell_type": "markdown",
   "metadata": {
    "id": "SAtoduly4iFF"
   },
   "source": [
    "# c. (p ∧ q) → (p ∧ r) for all values of p, q, r"
   ]
  },
  {
   "cell_type": "code",
   "execution_count": 80,
   "metadata": {},
   "outputs": [
    {
     "name": "stdout",
     "output_type": "stream",
     "text": [
      "p q r (p ∧ q) → (p ∧ r)\n",
      "0 0 0 \t True \t \n",
      "0 0 1 \t True \t \n",
      "0 1 0 \t True \t \n",
      "0 1 1 \t True \t \n",
      "1 0 0 \t True \t \n",
      "1 0 1 \t True \t \n",
      "1 1 0 \t False \t \n",
      "1 1 1 \t True \t \n",
      "\n"
     ]
    }
   ],
   "source": [
    "def implies(p, q):\n",
    "  if p == True and q == False:\n",
    "    return False\n",
    "  return True\n",
    "\n",
    "equivalent = True\n",
    "print(\"p q r (p ∧ q) → (p ∧ r)\")\n",
    "\n",
    "for p in range(2):\n",
    "  for q in range(2):\n",
    "    for r in range(2):\n",
    "     if implies(conjunction(p, q),conjunction(p, r)) :\n",
    "       equivalent = False\n",
    "     print(p, q,r, \"\\t\", implies(conjunction(p, q),conjunction(p, r)), \"\\t \")\n",
    "\n",
    "if equivalent:\n",
    "  print()\n",
    "\n",
    "else:\n",
    "  print()"
   ]
  },
  {
   "cell_type": "markdown",
   "metadata": {
    "id": "njIaTbws4ke8"
   },
   "source": [
    "# 8: Equivalent/not equivalent"
   ]
  },
  {
   "cell_type": "markdown",
   "metadata": {},
   "source": [
    "# a. (p ∧ q) → r and P → (q ∧ r)"
   ]
  },
  {
   "cell_type": "code",
   "execution_count": 58,
   "metadata": {
    "colab": {
     "base_uri": "https://localhost:8080/"
    },
    "id": "DyNvK-vU2dBZ",
    "outputId": "81faf56d-f71a-4e4b-cbd4-6f99c60e1590"
   },
   "outputs": [
    {
     "name": "stdout",
     "output_type": "stream",
     "text": [
      "p q r\t(p ∧ q) → r \t P → (q ∧ r)\n",
      "0 0 0 \t 1 \t\t 1\n",
      "0 0 1 \t 1 \t\t 1\n",
      "0 1 0 \t 1 \t\t 1\n",
      "0 1 1 \t 1 \t\t 1\n",
      "1 0 0 \t 1 \t\t 0\n",
      "1 0 1 \t 1 \t\t 0\n",
      "1 1 0 \t 0 \t\t 0\n",
      "1 1 1 \t 1 \t\t 1\n",
      "\n",
      "expressions not are eqivalent\n"
     ]
    }
   ],
   "source": [
    "def implies(p, q):\n",
    "  if p == True and q == False:\n",
    "    return 0\n",
    "  return 1\n",
    "\n",
    "equivalent = True\n",
    "print(\"p q r\\t(p ∧ q) → r \\t P → (q ∧ r)\")\n",
    "for p in range(2):\n",
    "  for q in range(2):\n",
    "    for r in range(2):\n",
    "      if implies(p and q, r) != implies(p, q and r):\n",
    "        equivalent = False\n",
    "      print(p, q, r, \"\\t\", implies(p and q, r), \"\\t\\t\", implies(p, q and r))\n",
    "\n",
    "\n",
    "if equivalent:\n",
    "  print(\"\\nexpressions are eqivalent\")\n",
    "else:\n",
    "  print(\"\\nexpressions not are eqivalent\")\n",
    "\n"
   ]
  },
  {
   "cell_type": "markdown",
   "metadata": {
    "id": "RKDpVgCR7TPs"
   },
   "source": [
    "# b.(p → q) ∧ (q → p) and p ↔ q"
   ]
  },
  {
   "cell_type": "code",
   "execution_count": 50,
   "metadata": {
    "colab": {
     "base_uri": "https://localhost:8080/"
    },
    "id": "VuZ_Xmpd2c9f",
    "outputId": "bbcf4528-9879-42e2-d8f2-53f0deeddea1"
   },
   "outputs": [
    {
     "name": "stdout",
     "output_type": "stream",
     "text": [
      "p q (p → q)∧(q → p) \tp ↔ q\n",
      "0 0 \t 1 \t\t  1\n",
      "0 1 \t 0 \t\t  0\n",
      "1 0 \t 0 \t\t  0\n",
      "1 1 \t 1 \t\t  1\n",
      "\n",
      "expressions are eqivalent\n"
     ]
    }
   ],
   "source": [
    "def implies(p, q):\n",
    "  if p == True and q == False:\n",
    "    return 0\n",
    "  return 1\n",
    "\n",
    "equivalent = True\n",
    "print(\"p q (p → q)∧(q → p) \\tp ↔ q\")\n",
    "#print(\"p q (p\\u2192q)\\u2227(q\\u2192p) p\\u27F7q\")\n",
    "\n",
    "for p in range(2):\n",
    "  for q in range(2):\n",
    "    if implies(p, q) and implies(q, p) != int(p == q):\n",
    "      equivalent = False\n",
    "    print(p, q, \"\\t\", implies(p, q) and implies(q, p), \"\\t\" \"\\t \", int(p == q))\n",
    "\n",
    "if equivalent:\n",
    "  print(\"\\nexpressions are eqivalent\")\n",
    "\n",
    "else:\n",
    "  print(\"\\nexpressions not are eqivalent\")\n"
   ]
  },
  {
   "cell_type": "markdown",
   "metadata": {
    "id": "goVeA7N68H7-"
   },
   "source": [
    "# c.¬ (p → q) and p ∧ ¬q"
   ]
  },
  {
   "cell_type": "code",
   "execution_count": 53,
   "metadata": {
    "colab": {
     "base_uri": "https://localhost:8080/"
    },
    "id": "w0EhbmDT2c64",
    "outputId": "3a59bce2-8c3e-4aa8-e858-e4a94b27ef19"
   },
   "outputs": [
    {
     "name": "stdout",
     "output_type": "stream",
     "text": [
      "p q   ¬ (p → q)   p ∧ ¬q\n",
      "0 0 \t 1 \t 1\n",
      "0 1 \t 0 \t 0\n",
      "1 0 \t 0 \t 0\n",
      "1 1 \t 1 \t 1\n",
      "\n",
      "expressions are eqivalent\n"
     ]
    }
   ],
   "source": [
    "def implies(p, q):\n",
    "  if p == True and q == False:\n",
    "    return 0\n",
    "  return 1\n",
    "\n",
    "equivalent = True\n",
    "print(\"p q   ¬ (p → q)   p ∧ ¬q\")\n",
    "\n",
    "for p in range(2):\n",
    "  for q in range(2):\n",
    "    if implies(p, q) and implies(q, p) != int(p == q):\n",
    "      equivalent = False\n",
    "    print(p, q, \"\\t\", implies(p, q) and implies(q, p), \"\\t\", int(p == q))\n",
    "\n",
    "\n",
    "if equivalent:\n",
    "  print(\"\\nexpressions are eqivalent\")\n",
    "else:\n",
    "  print(\"\\nexpressions not are eqivalent\")\n",
    "\n"
   ]
  },
  {
   "cell_type": "markdown",
   "metadata": {
    "id": "iUP_UIm99yWj"
   },
   "source": [
    "# d. (p → q) ∧ (p → r) and p→ (q ∧ r)"
   ]
  },
  {
   "cell_type": "code",
   "execution_count": 70,
   "metadata": {
    "colab": {
     "base_uri": "https://localhost:8080/"
    },
    "id": "q4USdFzJ2c3Q",
    "outputId": "19170b6f-bc1e-406b-8b7b-735b03b70346"
   },
   "outputs": [
    {
     "name": "stdout",
     "output_type": "stream",
     "text": [
      "p q r (p → q)∧(p → r)  p→ (q ∧ r)\n",
      "0 0 0 \t 1 \t \t 1\n",
      "0 0 1 \t 1 \t \t 1\n",
      "0 1 0 \t 1 \t \t 1\n",
      "0 1 1 \t 1 \t \t 1\n",
      "1 0 0 \t 0 \t \t 0\n",
      "1 0 1 \t 0 \t \t 0\n",
      "1 1 0 \t 0 \t \t 0\n",
      "1 1 1 \t 1 \t \t 1\n",
      "\n",
      "expressions are eqivalent\n"
     ]
    }
   ],
   "source": [
    "def implies(p, q):\n",
    "  if p == True and q == False:\n",
    "    return 0\n",
    "  return 1\n",
    "\n",
    "equivalent = True\n",
    "print(\"p q r (p → q)∧(p → r)  p→ (q ∧ r)\")\n",
    "\n",
    "for p in range(2):\n",
    "  for q in range(2):\n",
    "    for r in range(2):\n",
    "      if implies(p, q) and implies(p, r) != implies(p, q and r):\n",
    "        equivalent = False\n",
    "      print(p, q, r ,\"\\t\", implies(p, q) and implies(p, r), \"\\t \"\"\\t\", implies(p, q and r))\n",
    "\n",
    "\n",
    "if equivalent:\n",
    "  print(\"\\nexpressions are eqivalent\")\n",
    "else:\n",
    "  print(\"\\nexpressions not are eqivalent\")\n"
   ]
  },
  {
   "cell_type": "markdown",
   "metadata": {
    "id": "bCXWUu01-ulH"
   },
   "source": [
    "# 9 Tautology:"
   ]
  },
  {
   "cell_type": "markdown",
   "metadata": {},
   "source": [
    "# a. p∨¬p"
   ]
  },
  {
   "cell_type": "code",
   "execution_count": 59,
   "metadata": {},
   "outputs": [
    {
     "name": "stdout",
     "output_type": "stream",
     "text": [
      "p\tp v ~p\n",
      "False \t True\n",
      "True \t True\n",
      "\n"
     ]
    }
   ],
   "source": [
    "def implies(p, q):\n",
    "  return (not p) or q\n",
    "\n",
    "def double_implies(p, q):\n",
    "  return implies(p, q) and implies(q, p)\n",
    "\n",
    "print(\"p\\tp v ~p\")\n",
    "\n",
    "for p in [False, True]:\n",
    "  print(p, '\\t', p or (not p))\n",
    "print()\n"
   ]
  },
  {
   "cell_type": "markdown",
   "metadata": {},
   "source": [
    "# b. ~ (a ∧ b) ↔ (~a ∨ ~b)"
   ]
  },
  {
   "cell_type": "code",
   "execution_count": 72,
   "metadata": {
    "scrolled": true
   },
   "outputs": [
    {
     "name": "stdout",
     "output_type": "stream",
     "text": [
      "a\tb\t~(a ∧ b)↔(~a ∨ ~b)\n",
      "False \t False \t 1\n",
      "False \t True \t 1\n",
      "True \t False \t 1\n",
      "True \t True \t 1\n",
      "\n"
     ]
    }
   ],
   "source": [
    "print('a\\tb\\t~(a ∧ b)↔(~a ∨ ~b)')\n",
    "for a in [False, True]:\n",
    "  for b in [False, True]:\n",
    "    print(a, '\\t', b, '\\t', double_implies(not (a and b), (not a) or (not b)))\n",
    "print()\n"
   ]
  },
  {
   "cell_type": "markdown",
   "metadata": {},
   "source": [
    "# c. (((a ∨ b) ∧ (a → c)) ∧ (b → c)) → c"
   ]
  },
  {
   "cell_type": "code",
   "execution_count": 61,
   "metadata": {},
   "outputs": [
    {
     "name": "stdout",
     "output_type": "stream",
     "text": [
      "a\tb\tc\t(((a v b) ^ (a -> c)) ^ (b -> c)) -> c\n",
      "False \t False \t False \t True\n",
      "False \t False \t True \t True\n",
      "False \t True \t False \t True\n",
      "False \t True \t True \t True\n",
      "True \t False \t False \t True\n",
      "True \t False \t True \t True\n",
      "True \t True \t False \t True\n",
      "True \t True \t True \t True\n",
      "\n"
     ]
    }
   ],
   "source": [
    "print('a\\tb\\tc\\t(((a v b) ^ (a -> c)) ^ (b -> c)) -> c')\n",
    "for a in [False, True]:\n",
    "  for b in [False, True]:\n",
    "    for c in [False, True]:\n",
    "      print(a, '\\t', b, '\\t', c, '\\t', implies(((a or b) and implies(a, c)) and implies(b, c), c))\n",
    "print()"
   ]
  },
  {
   "cell_type": "code",
   "execution_count": null,
   "metadata": {
    "id": "nov2uigL2cyf"
   },
   "outputs": [],
   "source": []
  },
  {
   "cell_type": "code",
   "execution_count": null,
   "metadata": {
    "id": "aF3rNW6F2cq6"
   },
   "outputs": [],
   "source": []
  }
 ],
 "metadata": {
  "colab": {
   "name": "ICE_7.ipynb",
   "provenance": []
  },
  "kernelspec": {
   "display_name": "Python 3 (ipykernel)",
   "language": "python",
   "name": "python3"
  },
  "language_info": {
   "codemirror_mode": {
    "name": "ipython",
    "version": 3
   },
   "file_extension": ".py",
   "mimetype": "text/x-python",
   "name": "python",
   "nbconvert_exporter": "python",
   "pygments_lexer": "ipython3",
   "version": "3.9.7"
  }
 },
 "nbformat": 4,
 "nbformat_minor": 1
}
