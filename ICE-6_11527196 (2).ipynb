{
 "cells": [
  {
   "cell_type": "markdown",
   "id": "ec21190c",
   "metadata": {},
   "source": [
    "# ICE-6  -EXPECTIMAX ALGORITHM"
   ]
  },
  {
   "cell_type": "markdown",
   "id": "0f76c796",
   "metadata": {},
   "source": [
    "ANANYA SAMALA - 11527196"
   ]
  },
  {
   "cell_type": "markdown",
   "id": "236ba290",
   "metadata": {},
   "source": [
    "# Expectimax Algorithm in Game Theory:"
   ]
  },
  {
   "cell_type": "markdown",
   "id": "2069d47f",
   "metadata": {},
   "source": [
    "# TASK-1"
   ]
  },
  {
   "cell_type": "markdown",
   "id": "99778a19",
   "metadata": {},
   "source": [
    "The Expectimax search algorithm is a game theory algorithm used to maximize the expected utility. The Chance nodes take the average of all available utilities and outputs the expected utility.\n"
   ]
  },
  {
   "cell_type": "markdown",
   "id": "4a1e7441",
   "metadata": {},
   "source": [
    "In the given tree the first level represents max, while the second represents chance. Chance tries to calculate the average of the subtree and max tries to maximize. The values will be as follows: [3,12,9], [2,4,6], [15,6,0]."
   ]
  },
  {
   "cell_type": "markdown",
   "id": "7ccb555e",
   "metadata": {},
   "source": [
    "Implement the expectimax search algorithm and show the output in the chance nodes as well as the final output that will be chosen by the max node. For the given problem, assume that they have equal probability.\n"
   ]
  },
  {
   "cell_type": "code",
   "execution_count": 11,
   "id": "40780c95",
   "metadata": {
    "scrolled": true
   },
   "outputs": [
    {
     "name": "stdout",
     "output_type": "stream",
     "text": [
      "expectimax value of tree is 8.0\n"
     ]
    }
   ],
   "source": [
    "class Node:\n",
    "     \n",
    "    def __init__(self, value):\n",
    "         \n",
    "        self.value = value\n",
    "        self.nodeLeft = None\n",
    "        self.nodeMiddle = None\n",
    "        self.nodeRight = None\n",
    "        \n",
    "# Initialize the nodes\n",
    "def nodeNew(v):\n",
    " \n",
    "    temp = Node(v);\n",
    "    return temp;\n",
    " \n",
    "# Expectimax code\n",
    "def expectimax(node, is_max):\n",
    " \n",
    "    #we have 3 nodes right midde and left as terminal or leaf nodes\n",
    "    if (node.nodeLeft == None and node.nodeMiddle == None and node.nodeRight == None):\n",
    "        return node.value;\n",
    "     \n",
    "    # Maximize the node. Chooses the max from the leaf nodes\n",
    "    if (is_max):\n",
    "        return max(expectimax(node.nodeLeft, False), expectimax(node.nodeMiddle, False), expectimax(node.nodeRight, False))\n",
    "  \n",
    "    # Chance node is the probability step  \n",
    "    #We calculate using average of left middle and right nodes\n",
    "    else:\n",
    "        return (expectimax(node.nodeLeft, True)+ expectimax(node.nodeMiddle, True)+ expectimax(node.nodeRight, True))/3;\n",
    "     \n",
    "# Driver code\n",
    "if __name__=='__main__':\n",
    "    \n",
    "    #initialise the nodes\n",
    "    root = nodeNew(0);\n",
    "    root.nodeLeft = nodeNew(0);\n",
    "    root.nodeRight = nodeNew(0);\n",
    "    root.nodeMiddle = nodeNew(0);\n",
    "  \n",
    "    # given the input values \n",
    "    root.nodeLeft.nodeLeft = nodeNew(3);\n",
    "    root.nodeLeft.nodeMiddle = nodeNew(12);\n",
    "    root.nodeLeft.nodeRight = nodeNew(9);\n",
    "    root.nodeMiddle.nodeLeft = nodeNew(2);\n",
    "    root.nodeMiddle.nodeMiddle = nodeNew(4);\n",
    "    root.nodeMiddle.nodeRight = nodeNew(6);\n",
    "    root.nodeRight.nodeLeft = nodeNew(15);\n",
    "    root.nodeRight.nodeMiddle = nodeNew(6);\n",
    "    root.nodeRight.nodeRight = nodeNew(0);\n",
    "  \n",
    "    result = expectimax(root, True)\n",
    "    print(\"expectimax value of tree is \"+str(result))\n",
    "  \n",
    "     "
   ]
  },
  {
   "cell_type": "markdown",
   "id": "12347d3d",
   "metadata": {},
   "source": [
    "# TASK-2"
   ]
  },
  {
   "cell_type": "markdown",
   "id": "39541c5c",
   "metadata": {},
   "source": [
    "In the given tree the first level represents max, the second represents chance, and the third represents min. While chance tries to calculate the average of the subtree and max tries to maximize and min tries to minimize the output. The values will be as follows: [2,2], [1,2], [0,2], [-1,0]."
   ]
  },
  {
   "cell_type": "markdown",
   "id": "ce146ff3",
   "metadata": {},
   "source": [
    "Implement the expectimax search algorithm and show the output in the chance nodes, min nodes as well as the final output that will be chosen by the max node. For the given problem, assume that they have equal probability."
   ]
  },
  {
   "cell_type": "code",
   "execution_count": 12,
   "id": "2c1a7b6a",
   "metadata": {},
   "outputs": [
    {
     "name": "stdout",
     "output_type": "stream",
     "text": [
      "minimum value of node1 2\n",
      "minimum value of node2  1\n",
      "minimum value of node3  0\n",
      "minimum value of node4  -1\n",
      "\n",
      "Value at Chance node is 1.5\n",
      "\n",
      "Value at Chance node is -0.5\n",
      "\n",
      "\n",
      "expectimax value of tree1.5\n"
     ]
    }
   ],
   "source": [
    "class Node:\n",
    "     \n",
    "    def __init__(self, value):\n",
    "         \n",
    "        self.value = value\n",
    "        self.nodeLeft = None\n",
    "        self.nodeRight = None\n",
    "     \n",
    "# Initializing the Node \n",
    "def nodeNew(v):\n",
    " \n",
    "    temp = Node(v);\n",
    "    return temp;\n",
    " \n",
    "# Expectimax code\n",
    "def expectimax(node, is_max):\n",
    " \n",
    "      #we have 2 nodes right and left as terminal or leaf nodes\n",
    "    if (node.nodeLeft == None and node.nodeRight == None):\n",
    "        return node.value;\n",
    "     \n",
    "    # Maximizer node. Chooses the max from the nodeLeft and nodeRight sub-trees\n",
    "    if (is_max):\n",
    "        return max(expectimax(node.nodeLeft, False), expectimax(node.nodeRight, False))\n",
    "  \n",
    "    # Returns the average of the nodeLeft and nodeRight sub-trees\n",
    "    else:\n",
    "        print(\"\\nValue at Chance node is \"+str((expectimax(node.nodeLeft, True)+ expectimax(node.nodeRight, True))/2))\n",
    "        return (expectimax(node.nodeLeft, True)+ expectimax(node.nodeRight, True))/2;\n",
    "# Driver code\n",
    "if __name__=='__main__':\n",
    "    #initialize the node\n",
    "    root = nodeNew(0);\n",
    "    root.nodeLeft = nodeNew(0);\n",
    "    root.nodeRight = nodeNew(0);\n",
    "  \n",
    "    # Assigning values to  nodes\n",
    "    print(\"minimum value of node1 \"+str(min(2,2)))\n",
    "    root.nodeLeft.nodeLeft = nodeNew(min(2,2));\n",
    "    print(\"minimum value of node2  \"+str(min(1,2)))\n",
    "    root.nodeLeft.nodeRight = nodeNew(min(1,2));\n",
    "    print(\"minimum value of node3  \"+str(min(0,2)))\n",
    "    root.nodeRight.nodeLeft = nodeNew(min(0,2));\n",
    "    print(\"minimum value of node4  \"+str(min(-1,0)))\n",
    "    root.nodeRight.nodeRight = nodeNew(min(-1,0));\n",
    "  \n",
    "    result = expectimax(root, True)\n",
    "    print(\"\\n\\nexpectimax value of tree is \" +str(result))"
   ]
  },
  {
   "cell_type": "code",
   "execution_count": null,
   "id": "ce9cb68e",
   "metadata": {},
   "outputs": [],
   "source": []
  }
 ],
 "metadata": {
  "kernelspec": {
   "display_name": "Python 3 (ipykernel)",
   "language": "python",
   "name": "python3"
  },
  "language_info": {
   "codemirror_mode": {
    "name": "ipython",
    "version": 3
   },
   "file_extension": ".py",
   "mimetype": "text/x-python",
   "name": "python",
   "nbconvert_exporter": "python",
   "pygments_lexer": "ipython3",
   "version": "3.9.7"
  }
 },
 "nbformat": 4,
 "nbformat_minor": 5
}
