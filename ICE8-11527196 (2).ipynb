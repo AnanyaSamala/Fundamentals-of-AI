{
 "cells": [
  {
   "cell_type": "code",
   "execution_count": 1,
   "metadata": {
    "id": "Ox81epNpuKWW"
   },
   "outputs": [],
   "source": [
    "from IPython.display import clear_output\n",
    "import numpy as np\n",
    "import matplotlib.pyplot as plt \n",
    "%matplotlib inline "
   ]
  },
  {
   "cell_type": "code",
   "execution_count": 2,
   "metadata": {
    "id": "cty1C_RWwJKU"
   },
   "outputs": [],
   "source": [
    "num_of_wumpus = 1\n",
    "num_of_holes = 3"
   ]
  },
  {
   "cell_type": "code",
   "execution_count": 3,
   "metadata": {
    "id": "AmTIQZTQwJAn"
   },
   "outputs": [],
   "source": [
    "def end_game(dangers, pos):\n",
    "    alive = True\n",
    "    for danger_pos in dangers.T:\n",
    "        if pos[0] == danger_pos[0] and pos[1] == danger_pos[1]:\n",
    "            alive = False\n",
    "            clear_output()\n",
    "            plt.figure(figsize = (4,4))\n",
    "            plt.plot(0,0, color = 'k', marker = 's', markersize = 3000)\n",
    "            plt.axis('off')\n",
    "            plt.title('FAIL')\n",
    "            plt.show()\n",
    "    return alive"
   ]
  },
  {
   "cell_type": "code",
   "execution_count": 4,
   "metadata": {
    "id": "DxIT7wZRwI4S"
   },
   "outputs": [],
   "source": [
    "def win_game(pos, gold):\n",
    "    win = False\n",
    "    if sum(np.array(pos)==np.array(gold))==2:\n",
    "        win = True\n",
    "        clear_output()\n",
    "        plt.figure(figsize = (4,4))\n",
    "        plt.plot(0,0, color = 'yellow', marker = 's', markersize = 3000)\n",
    "        plt.axis('off')\n",
    "        plt.title('WIN')\n",
    "        plt.show()\n",
    "    return win"
   ]
  },
  {
   "cell_type": "code",
   "execution_count": 9,
   "metadata": {
    "id": "gwJa2kYiwInL"
   },
   "outputs": [],
   "source": [
    "def plot_game(pos, wumpus, holes, gold, width = 5, height = 5):\n",
    "    clear_output()\n",
    "    plt.figure(figsize = (4, 4))\n",
    "    plt.plot([pos[0]], [pos[1]], linestyle ='', marker = '*', markersize = 20, c = 'green')\n",
    "    plt.plot([gold[0]], [gold[1]], linestyle ='', marker = 'o', markersize = 20, c = 'yellow')\n",
    "    plt.plot([wumpus[0]], [wumpus[1]], linestyle = '', marker = 'x', markersize = 25, c = 'red')\n",
    "    plt.plot([holes[0]], [holes[1]], linestyle = '', marker = 'o', markersize = 20, c = 'black')\n",
    "    plt.xlim(-width-1, width+1)\n",
    "    plt.ylim(-height-1, height+1)\n",
    "    plt.axis('off')\n",
    "    plt.show()"
   ]
  },
  {
   "cell_type": "markdown",
   "metadata": {},
   "source": [
    "GOLD"
   ]
  },
  {
   "cell_type": "code",
   "execution_count": 9,
   "metadata": {
    "colab": {
     "base_uri": "https://localhost:8080/",
     "height": 264
    },
    "id": "iXMDQmaSwboc",
    "outputId": "4aaca7cd-fe9c-4c1f-ac82-bc2810d8982d",
    "scrolled": true
   },
   "outputs": [
    {
     "data": {
      "image/png": "[encoded data removed]",
      "text/plain": [
       "<Figure size 288x288 with 1 Axes>"
      ]
     },
     "metadata": {
      "needs_background": "light"
     },
     "output_type": "display_data"
    }
   ],
   "source": [
    "gold = np.random.randint(low = -5, high = 6, size = 2)\n",
    "pos = [0,0]\n",
    "wumpus = np.random.randint(low = -5, high = 6, size = (2, num_of_wumpus))\n",
    "holes = np.random.randint(low = -5, high= 6, size = (2, num_of_holes))\n",
    "alive = True\n",
    "win = False\n",
    "\n",
    "while alive and not win:\n",
    "    \n",
    "    plot_game(pos, wumpus, holes, gold)\n",
    "    \n",
    "    alive = end_game(wumpus, pos) and end_game(holes, pos) \n",
    "    if alive : win = win_game(pos, gold)\n",
    "    if alive and not win: \n",
    "        # moving the player\n",
    "        direction = input('Which Direction? u/d/l/r and Enter:')\n",
    "        if len(direction)<1:\n",
    "            clear_output()\n",
    "            continue\n",
    "        else : \n",
    "            direction = direction[0]\n",
    "\n",
    "        if   direction == 'u':\n",
    "            pos[1] += 1\n",
    "        elif direction == 'd':\n",
    "            pos[1] -= 1\n",
    "        elif direction == 'l':\n",
    "            pos[0] -= 1\n",
    "        elif direction == 'r':\n",
    "            pos[0] += 1\n",
    "        else : break\n",
    "        "
   ]
  },
  {
   "cell_type": "markdown",
   "metadata": {},
   "source": [
    "PIT"
   ]
  },
  {
   "cell_type": "code",
   "execution_count": 12,
   "metadata": {
    "scrolled": true
   },
   "outputs": [
    {
     "data": {
      "image/png": "[encoded data removed]",
      "text/plain": [
       "<Figure size 288x288 with 1 Axes>"
      ]
     },
     "metadata": {
      "needs_background": "light"
     },
     "output_type": "display_data"
    }
   ],
   "source": [
    "gold = np.random.randint(low = -5, high = 6, size = 2)\n",
    "pos = [0,0]\n",
    "wumpus = np.random.randint(low = -5, high = 6, size = (2, num_of_wumpus))\n",
    "holes = np.random.randint(low = -5, high= 6, size = (2, num_of_holes))\n",
    "alive = True\n",
    "win = False\n",
    "\n",
    "while alive and not win:\n",
    "    \n",
    "    plot_game(pos, wumpus, holes, gold)\n",
    "    \n",
    "    alive = end_game(wumpus, pos) and end_game(holes, pos) \n",
    "    if alive : win = win_game(pos, gold)\n",
    "    if alive and not win: \n",
    "        # moving the player\n",
    "        direction = input('Which Direction? u/d/l/r and Enter:')\n",
    "        if len(direction)<1:\n",
    "            clear_output()\n",
    "            continue\n",
    "        else : \n",
    "            direction = direction[0]\n",
    "\n",
    "        if   direction == 'u':\n",
    "            pos[1] += 1\n",
    "        elif direction == 'd':\n",
    "            pos[1] -= 1\n",
    "        elif direction == 'l':\n",
    "            pos[0] -= 1\n",
    "        elif direction == 'r':\n",
    "            pos[0] += 1\n",
    "        else : break\n",
    "        "
   ]
  },
  {
   "cell_type": "markdown",
   "metadata": {},
   "source": [
    "WUMPUS"
   ]
  },
  {
   "cell_type": "code",
   "execution_count": 13,
   "metadata": {},
   "outputs": [
    {
     "data": {
      "image/png": "[encoded data removed]",
      "text/plain": [
       "<Figure size 288x288 with 1 Axes>"
      ]
     },
     "metadata": {
      "needs_background": "light"
     },
     "output_type": "display_data"
    }
   ],
   "source": [
    "gold = np.random.randint(low = -5, high = 6, size = 2)\n",
    "pos = [0,0]\n",
    "wumpus = np.random.randint(low = -5, high = 6, size = (2, num_of_wumpus))\n",
    "holes = np.random.randint(low = -5, high= 6, size = (2, num_of_holes))\n",
    "alive = True\n",
    "win = False\n",
    "\n",
    "while alive and not win:\n",
    "    \n",
    "    plot_game(pos, wumpus, holes, gold)\n",
    "    \n",
    "    alive = end_game(wumpus, pos) and end_game(holes, pos) \n",
    "    if alive : win = win_game(pos, gold)\n",
    "    if alive and not win: \n",
    "        # moving the player\n",
    "        direction = input('Which Direction? u/d/l/r and Enter:')\n",
    "        if len(direction)<1:\n",
    "            clear_output()\n",
    "            continue\n",
    "        else : \n",
    "            direction = direction[0]\n",
    "\n",
    "        if   direction == 'u':\n",
    "            pos[1] += 1\n",
    "        elif direction == 'd':\n",
    "            pos[1] -= 1\n",
    "        elif direction == 'l':\n",
    "            pos[0] -= 1\n",
    "        elif direction == 'r':\n",
    "            pos[0] += 1\n",
    "        else : break\n",
    "        "
   ]
  },
  {
   "cell_type": "code",
   "execution_count": null,
   "metadata": {},
   "outputs": [],
   "source": []
  }
 ],
 "metadata": {
  "colab": {
   "name": "Wumpus.ipynb",
   "provenance": []
  },
  "kernelspec": {
   "display_name": "Python 3 (ipykernel)",
   "language": "python",
   "name": "python3"
  },
  "language_info": {
   "codemirror_mode": {
    "name": "ipython",
    "version": 3
   },
   "file_extension": ".py",
   "mimetype": "text/x-python",
   "name": "python",
   "nbconvert_exporter": "python",
   "pygments_lexer": "ipython3",
   "version": "3.9.7"
  }
 },
 "nbformat": 4,
 "nbformat_minor": 1
}
