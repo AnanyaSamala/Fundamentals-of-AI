{
  "cells": [
    {
      "cell_type": "markdown",
      "metadata": {
        "id": "view-in-github",
        "colab_type": "text"
      },
      "source": [
        "<a href=\"https://colab.research.google.com/github/AnanyaSamala/Fundamentals-of-AI/blob/main/Lstm_72hr_Gx_(1).ipynb\" target=\"_parent\"><img src=\"https://colab.research.google.com/assets/colab-badge.svg\" alt=\"Open In Colab\"/></a>"
      ]
    },
    {
      "cell_type": "markdown",
      "metadata": {
        "id": "WxOiYWoZfQ4U"
      },
      "source": [
        "### Importing"
      ]
    },
    {
      "cell_type": "code",
      "execution_count": 98,
      "metadata": {
        "id": "M3C4TjYDwDx4"
      },
      "outputs": [],
      "source": [
        "import pandas as pd\n",
        "import matplotlib.pyplot as plt\n",
        "import numpy as np\n",
        "import math\n",
        "import tensorflow as tf\n",
        "from numpy import array\n",
        "from tensorflow.keras.models import Sequential\n",
        "from tensorflow.keras.layers import LSTM, Dense, Dropout\n",
        "from sklearn.preprocessing import MinMaxScaler\n",
        "from sklearn.metrics import mean_squared_error"
      ]
    },
    {
      "cell_type": "markdown",
      "metadata": {
        "id": "4hRndIfXpFQ5"
      },
      "source": [
        "### Reading df"
      ]
    },
    {
      "cell_type": "code",
      "execution_count": 99,
      "metadata": {
        "colab": {
          "base_uri": "https://localhost:8080/",
          "height": 238
        },
        "id": "tkKcfgQexMgI",
        "outputId": "6b22c6da-d1eb-4cd0-82e4-1de6a95e73b9"
      },
      "outputs": [
        {
          "output_type": "execute_result",
          "data": {
            "text/plain": [
              "            time  volume   open   high    low  close\n",
              "date                                                \n",
              "2023-07-31  0:00     156  80.47  80.48  80.40  80.41\n",
              "2023-07-31  0:05     174  80.40  80.43  80.39  80.41\n",
              "2023-07-31  0:10     129  80.42  80.46  80.40  80.43\n",
              "2023-07-31  0:15     145  80.43  80.43  80.37  80.40\n",
              "2023-07-31  0:20      49  80.39  80.42  80.39  80.41"
            ],
            "text/html": [
              "\n",
              "  <div id=\"df-8f8f8841-b136-4fdd-aee3-94f29519bb25\" class=\"colab-df-container\">\n",
              "    <div>\n",
              "<style scoped>\n",
              "    .dataframe tbody tr th:only-of-type {\n",
              "        vertical-align: middle;\n",
              "    }\n",
              "\n",
              "    .dataframe tbody tr th {\n",
              "        vertical-align: top;\n",
              "    }\n",
              "\n",
              "    .dataframe thead th {\n",
              "        text-align: right;\n",
              "    }\n",
              "</style>\n",
              "<table border=\"1\" class=\"dataframe\">\n",
              "  <thead>\n",
              "    <tr style=\"text-align: right;\">\n",
              "      <th></th>\n",
              "      <th>time</th>\n",
              "      <th>volume</th>\n",
              "      <th>open</th>\n",
              "      <th>high</th>\n",
              "      <th>low</th>\n",
              "      <th>close</th>\n",
              "    </tr>\n",
              "    <tr>\n",
              "      <th>date</th>\n",
              "      <th></th>\n",
              "      <th></th>\n",
              "      <th></th>\n",
              "      <th></th>\n",
              "      <th></th>\n",
              "      <th></th>\n",
              "    </tr>\n",
              "  </thead>\n",
              "  <tbody>\n",
              "    <tr>\n",
              "      <th>2023-07-31</th>\n",
              "      <td>0:00</td>\n",
              "      <td>156</td>\n",
              "      <td>80.47</td>\n",
              "      <td>80.48</td>\n",
              "      <td>80.40</td>\n",
              "      <td>80.41</td>\n",
              "    </tr>\n",
              "    <tr>\n",
              "      <th>2023-07-31</th>\n",
              "      <td>0:05</td>\n",
              "      <td>174</td>\n",
              "      <td>80.40</td>\n",
              "      <td>80.43</td>\n",
              "      <td>80.39</td>\n",
              "      <td>80.41</td>\n",
              "    </tr>\n",
              "    <tr>\n",
              "      <th>2023-07-31</th>\n",
              "      <td>0:10</td>\n",
              "      <td>129</td>\n",
              "      <td>80.42</td>\n",
              "      <td>80.46</td>\n",
              "      <td>80.40</td>\n",
              "      <td>80.43</td>\n",
              "    </tr>\n",
              "    <tr>\n",
              "      <th>2023-07-31</th>\n",
              "      <td>0:15</td>\n",
              "      <td>145</td>\n",
              "      <td>80.43</td>\n",
              "      <td>80.43</td>\n",
              "      <td>80.37</td>\n",
              "      <td>80.40</td>\n",
              "    </tr>\n",
              "    <tr>\n",
              "      <th>2023-07-31</th>\n",
              "      <td>0:20</td>\n",
              "      <td>49</td>\n",
              "      <td>80.39</td>\n",
              "      <td>80.42</td>\n",
              "      <td>80.39</td>\n",
              "      <td>80.41</td>\n",
              "    </tr>\n",
              "  </tbody>\n",
              "</table>\n",
              "</div>\n",
              "    <div class=\"colab-df-buttons\">\n",
              "\n",
              "  <div class=\"colab-df-container\">\n",
              "    <button class=\"colab-df-convert\" onclick=\"convertToInteractive('df-8f8f8841-b136-4fdd-aee3-94f29519bb25')\"\n",
              "            title=\"Convert this dataframe to an interactive table.\"\n",
              "            style=\"display:none;\">\n",
              "\n",
              "  <svg xmlns=\"http://www.w3.org/2000/svg\" height=\"24px\" viewBox=\"0 -960 960 960\">\n",
              "    <path d=\"M120-120v-720h720v720H120Zm60-500h600v-160H180v160Zm220 220h160v-160H400v160Zm0 220h160v-160H400v160ZM180-400h160v-160H180v160Zm440 0h160v-160H620v160ZM180-180h160v-160H180v160Zm440 0h160v-160H620v160Z\"/>\n",
              "  </svg>\n",
              "    </button>\n",
              "\n",
              "  <style>\n",
              "    .colab-df-container {\n",
              "      display:flex;\n",
              "      gap: 12px;\n",
              "    }\n",
              "\n",
              "    .colab-df-convert {\n",
              "      background-color: #E8F0FE;\n",
              "      border: none;\n",
              "      border-radius: 50%;\n",
              "      cursor: pointer;\n",
              "      display: none;\n",
              "      fill: #1967D2;\n",
              "      height: 32px;\n",
              "      padding: 0 0 0 0;\n",
              "      width: 32px;\n",
              "    }\n",
              "\n",
              "    .colab-df-convert:hover {\n",
              "      background-color: #E2EBFA;\n",
              "      box-shadow: 0px 1px 2px rgba(60, 64, 67, 0.3), 0px 1px 3px 1px rgba(60, 64, 67, 0.15);\n",
              "      fill: #174EA6;\n",
              "    }\n",
              "\n",
              "    .colab-df-buttons div {\n",
              "      margin-bottom: 4px;\n",
              "    }\n",
              "\n",
              "    [theme=dark] .colab-df-convert {\n",
              "      background-color: #3B4455;\n",
              "      fill: #D2E3FC;\n",
              "    }\n",
              "\n",
              "    [theme=dark] .colab-df-convert:hover {\n",
              "      background-color: #434B5C;\n",
              "      box-shadow: 0px 1px 3px 1px rgba(0, 0, 0, 0.15);\n",
              "      filter: drop-shadow(0px 1px 2px rgba(0, 0, 0, 0.3));\n",
              "      fill: #FFFFFF;\n",
              "    }\n",
              "  </style>\n",
              "\n",
              "    <script>\n",
              "      const buttonEl =\n",
              "        document.querySelector('#df-8f8f8841-b136-4fdd-aee3-94f29519bb25 button.colab-df-convert');\n",
              "      buttonEl.style.display =\n",
              "        google.colab.kernel.accessAllowed ? 'block' : 'none';\n",
              "\n",
              "      async function convertToInteractive(key) {\n",
              "        const element = document.querySelector('#df-8f8f8841-b136-4fdd-aee3-94f29519bb25');\n",
              "        const dataTable =\n",
              "          await google.colab.kernel.invokeFunction('convertToInteractive',\n",
              "                                                    [key], {});\n",
              "        if (!dataTable) return;\n",
              "\n",
              "        const docLinkHtml = 'Like what you see? Visit the ' +\n",
              "          '<a target=\"_blank\" href=https://colab.research.google.com/notebooks/data_table.ipynb>data table notebook</a>'\n",
              "          + ' to learn more about interactive tables.';\n",
              "        element.innerHTML = '';\n",
              "        dataTable['output_type'] = 'display_data';\n",
              "        await google.colab.output.renderOutput(dataTable, element);\n",
              "        const docLink = document.createElement('div');\n",
              "        docLink.innerHTML = docLinkHtml;\n",
              "        element.appendChild(docLink);\n",
              "      }\n",
              "    </script>\n",
              "  </div>\n",
              "\n",
              "\n",
              "<div id=\"df-f8169f29-c7d2-4603-861a-aa5f038ac910\">\n",
              "  <button class=\"colab-df-quickchart\" onclick=\"quickchart('df-f8169f29-c7d2-4603-861a-aa5f038ac910')\"\n",
              "            title=\"Suggest charts.\"\n",
              "            style=\"display:none;\">\n",
              "\n",
              "<svg xmlns=\"http://www.w3.org/2000/svg\" height=\"24px\"viewBox=\"0 0 24 24\"\n",
              "     width=\"24px\">\n",
              "    <g>\n",
              "        <path d=\"M19 3H5c-1.1 0-2 .9-2 2v14c0 1.1.9 2 2 2h14c1.1 0 2-.9 2-2V5c0-1.1-.9-2-2-2zM9 17H7v-7h2v7zm4 0h-2V7h2v10zm4 0h-2v-4h2v4z\"/>\n",
              "    </g>\n",
              "</svg>\n",
              "  </button>\n",
              "\n",
              "<style>\n",
              "  .colab-df-quickchart {\n",
              "      --bg-color: #E8F0FE;\n",
              "      --fill-color: #1967D2;\n",
              "      --hover-bg-color: #E2EBFA;\n",
              "      --hover-fill-color: #174EA6;\n",
              "      --disabled-fill-color: #AAA;\n",
              "      --disabled-bg-color: #DDD;\n",
              "  }\n",
              "\n",
              "  [theme=dark] .colab-df-quickchart {\n",
              "      --bg-color: #3B4455;\n",
              "      --fill-color: #D2E3FC;\n",
              "      --hover-bg-color: #434B5C;\n",
              "      --hover-fill-color: #FFFFFF;\n",
              "      --disabled-bg-color: #3B4455;\n",
              "      --disabled-fill-color: #666;\n",
              "  }\n",
              "\n",
              "  .colab-df-quickchart {\n",
              "    background-color: var(--bg-color);\n",
              "    border: none;\n",
              "    border-radius: 50%;\n",
              "    cursor: pointer;\n",
              "    display: none;\n",
              "    fill: var(--fill-color);\n",
              "    height: 32px;\n",
              "    padding: 0;\n",
              "    width: 32px;\n",
              "  }\n",
              "\n",
              "  .colab-df-quickchart:hover {\n",
              "    background-color: var(--hover-bg-color);\n",
              "    box-shadow: 0 1px 2px rgba(60, 64, 67, 0.3), 0 1px 3px 1px rgba(60, 64, 67, 0.15);\n",
              "    fill: var(--button-hover-fill-color);\n",
              "  }\n",
              "\n",
              "  .colab-df-quickchart-complete:disabled,\n",
              "  .colab-df-quickchart-complete:disabled:hover {\n",
              "    background-color: var(--disabled-bg-color);\n",
              "    fill: var(--disabled-fill-color);\n",
              "    box-shadow: none;\n",
              "  }\n",
              "\n",
              "  .colab-df-spinner {\n",
              "    border: 2px solid var(--fill-color);\n",
              "    border-color: transparent;\n",
              "    border-bottom-color: var(--fill-color);\n",
              "    animation:\n",
              "      spin 1s steps(1) infinite;\n",
              "  }\n",
              "\n",
              "  @keyframes spin {\n",
              "    0% {\n",
              "      border-color: transparent;\n",
              "      border-bottom-color: var(--fill-color);\n",
              "      border-left-color: var(--fill-color);\n",
              "    }\n",
              "    20% {\n",
              "      border-color: transparent;\n",
              "      border-left-color: var(--fill-color);\n",
              "      border-top-color: var(--fill-color);\n",
              "    }\n",
              "    30% {\n",
              "      border-color: transparent;\n",
              "      border-left-color: var(--fill-color);\n",
              "      border-top-color: var(--fill-color);\n",
              "      border-right-color: var(--fill-color);\n",
              "    }\n",
              "    40% {\n",
              "      border-color: transparent;\n",
              "      border-right-color: var(--fill-color);\n",
              "      border-top-color: var(--fill-color);\n",
              "    }\n",
              "    60% {\n",
              "      border-color: transparent;\n",
              "      border-right-color: var(--fill-color);\n",
              "    }\n",
              "    80% {\n",
              "      border-color: transparent;\n",
              "      border-right-color: var(--fill-color);\n",
              "      border-bottom-color: var(--fill-color);\n",
              "    }\n",
              "    90% {\n",
              "      border-color: transparent;\n",
              "      border-bottom-color: var(--fill-color);\n",
              "    }\n",
              "  }\n",
              "</style>\n",
              "\n",
              "  <script>\n",
              "    async function quickchart(key) {\n",
              "      const quickchartButtonEl =\n",
              "        document.querySelector('#' + key + ' button');\n",
              "      quickchartButtonEl.disabled = true;  // To prevent multiple clicks.\n",
              "      quickchartButtonEl.classList.add('colab-df-spinner');\n",
              "      try {\n",
              "        const charts = await google.colab.kernel.invokeFunction(\n",
              "            'suggestCharts', [key], {});\n",
              "      } catch (error) {\n",
              "        console.error('Error during call to suggestCharts:', error);\n",
              "      }\n",
              "      quickchartButtonEl.classList.remove('colab-df-spinner');\n",
              "      quickchartButtonEl.classList.add('colab-df-quickchart-complete');\n",
              "    }\n",
              "    (() => {\n",
              "      let quickchartButtonEl =\n",
              "        document.querySelector('#df-f8169f29-c7d2-4603-861a-aa5f038ac910 button');\n",
              "      quickchartButtonEl.style.display =\n",
              "        google.colab.kernel.accessAllowed ? 'block' : 'none';\n",
              "    })();\n",
              "  </script>\n",
              "</div>\n",
              "    </div>\n",
              "  </div>\n"
            ]
          },
          "metadata": {},
          "execution_count": 99
        }
      ],
      "source": [
        "df = pd.read_csv('/content/31_July-30_Aug_Gx (1).csv', index_col=\"date\", infer_datetime_format=True, parse_dates=True)\n",
        "df.head(5)"
      ]
    },
    {
      "cell_type": "code",
      "source": [
        "df.tail()"
      ],
      "metadata": {
        "colab": {
          "base_uri": "https://localhost:8080/",
          "height": 238
        },
        "id": "uDu8Izc2EdPU",
        "outputId": "647cda5f-b84b-49d6-a691-ddae2d0d1225"
      },
      "execution_count": 100,
      "outputs": [
        {
          "output_type": "execute_result",
          "data": {
            "text/plain": [
              "             time  volume   open   high    low  close\n",
              "date                                                 \n",
              "2023-08-30  23:35       9  81.65  81.65  81.65  81.65\n",
              "2023-08-30  23:40      18  81.65  81.65  81.65  81.65\n",
              "2023-08-30  23:45      19  81.65  81.65  81.64  81.64\n",
              "2023-08-30  23:50      23  81.65  81.65  81.63  81.63\n",
              "2023-08-30  23:55      17  81.63  81.64  81.63  81.63"
            ],
            "text/html": [
              "\n",
              "  <div id=\"df-37242e6f-225b-419a-953f-f8dcc7c0087a\" class=\"colab-df-container\">\n",
              "    <div>\n",
              "<style scoped>\n",
              "    .dataframe tbody tr th:only-of-type {\n",
              "        vertical-align: middle;\n",
              "    }\n",
              "\n",
              "    .dataframe tbody tr th {\n",
              "        vertical-align: top;\n",
              "    }\n",
              "\n",
              "    .dataframe thead th {\n",
              "        text-align: right;\n",
              "    }\n",
              "</style>\n",
              "<table border=\"1\" class=\"dataframe\">\n",
              "  <thead>\n",
              "    <tr style=\"text-align: right;\">\n",
              "      <th></th>\n",
              "      <th>time</th>\n",
              "      <th>volume</th>\n",
              "      <th>open</th>\n",
              "      <th>high</th>\n",
              "      <th>low</th>\n",
              "      <th>close</th>\n",
              "    </tr>\n",
              "    <tr>\n",
              "      <th>date</th>\n",
              "      <th></th>\n",
              "      <th></th>\n",
              "      <th></th>\n",
              "      <th></th>\n",
              "      <th></th>\n",
              "      <th></th>\n",
              "    </tr>\n",
              "  </thead>\n",
              "  <tbody>\n",
              "    <tr>\n",
              "      <th>2023-08-30</th>\n",
              "      <td>23:35</td>\n",
              "      <td>9</td>\n",
              "      <td>81.65</td>\n",
              "      <td>81.65</td>\n",
              "      <td>81.65</td>\n",
              "      <td>81.65</td>\n",
              "    </tr>\n",
              "    <tr>\n",
              "      <th>2023-08-30</th>\n",
              "      <td>23:40</td>\n",
              "      <td>18</td>\n",
              "      <td>81.65</td>\n",
              "      <td>81.65</td>\n",
              "      <td>81.65</td>\n",
              "      <td>81.65</td>\n",
              "    </tr>\n",
              "    <tr>\n",
              "      <th>2023-08-30</th>\n",
              "      <td>23:45</td>\n",
              "      <td>19</td>\n",
              "      <td>81.65</td>\n",
              "      <td>81.65</td>\n",
              "      <td>81.64</td>\n",
              "      <td>81.64</td>\n",
              "    </tr>\n",
              "    <tr>\n",
              "      <th>2023-08-30</th>\n",
              "      <td>23:50</td>\n",
              "      <td>23</td>\n",
              "      <td>81.65</td>\n",
              "      <td>81.65</td>\n",
              "      <td>81.63</td>\n",
              "      <td>81.63</td>\n",
              "    </tr>\n",
              "    <tr>\n",
              "      <th>2023-08-30</th>\n",
              "      <td>23:55</td>\n",
              "      <td>17</td>\n",
              "      <td>81.63</td>\n",
              "      <td>81.64</td>\n",
              "      <td>81.63</td>\n",
              "      <td>81.63</td>\n",
              "    </tr>\n",
              "  </tbody>\n",
              "</table>\n",
              "</div>\n",
              "    <div class=\"colab-df-buttons\">\n",
              "\n",
              "  <div class=\"colab-df-container\">\n",
              "    <button class=\"colab-df-convert\" onclick=\"convertToInteractive('df-37242e6f-225b-419a-953f-f8dcc7c0087a')\"\n",
              "            title=\"Convert this dataframe to an interactive table.\"\n",
              "            style=\"display:none;\">\n",
              "\n",
              "  <svg xmlns=\"http://www.w3.org/2000/svg\" height=\"24px\" viewBox=\"0 -960 960 960\">\n",
              "    <path d=\"M120-120v-720h720v720H120Zm60-500h600v-160H180v160Zm220 220h160v-160H400v160Zm0 220h160v-160H400v160ZM180-400h160v-160H180v160Zm440 0h160v-160H620v160ZM180-180h160v-160H180v160Zm440 0h160v-160H620v160Z\"/>\n",
              "  </svg>\n",
              "    </button>\n",
              "\n",
              "  <style>\n",
              "    .colab-df-container {\n",
              "      display:flex;\n",
              "      gap: 12px;\n",
              "    }\n",
              "\n",
              "    .colab-df-convert {\n",
              "      background-color: #E8F0FE;\n",
              "      border: none;\n",
              "      border-radius: 50%;\n",
              "      cursor: pointer;\n",
              "      display: none;\n",
              "      fill: #1967D2;\n",
              "      height: 32px;\n",
              "      padding: 0 0 0 0;\n",
              "      width: 32px;\n",
              "    }\n",
              "\n",
              "    .colab-df-convert:hover {\n",
              "      background-color: #E2EBFA;\n",
              "      box-shadow: 0px 1px 2px rgba(60, 64, 67, 0.3), 0px 1px 3px 1px rgba(60, 64, 67, 0.15);\n",
              "      fill: #174EA6;\n",
              "    }\n",
              "\n",
              "    .colab-df-buttons div {\n",
              "      margin-bottom: 4px;\n",
              "    }\n",
              "\n",
              "    [theme=dark] .colab-df-convert {\n",
              "      background-color: #3B4455;\n",
              "      fill: #D2E3FC;\n",
              "    }\n",
              "\n",
              "    [theme=dark] .colab-df-convert:hover {\n",
              "      background-color: #434B5C;\n",
              "      box-shadow: 0px 1px 3px 1px rgba(0, 0, 0, 0.15);\n",
              "      filter: drop-shadow(0px 1px 2px rgba(0, 0, 0, 0.3));\n",
              "      fill: #FFFFFF;\n",
              "    }\n",
              "  </style>\n",
              "\n",
              "    <script>\n",
              "      const buttonEl =\n",
              "        document.querySelector('#df-37242e6f-225b-419a-953f-f8dcc7c0087a button.colab-df-convert');\n",
              "      buttonEl.style.display =\n",
              "        google.colab.kernel.accessAllowed ? 'block' : 'none';\n",
              "\n",
              "      async function convertToInteractive(key) {\n",
              "        const element = document.querySelector('#df-37242e6f-225b-419a-953f-f8dcc7c0087a');\n",
              "        const dataTable =\n",
              "          await google.colab.kernel.invokeFunction('convertToInteractive',\n",
              "                                                    [key], {});\n",
              "        if (!dataTable) return;\n",
              "\n",
              "        const docLinkHtml = 'Like what you see? Visit the ' +\n",
              "          '<a target=\"_blank\" href=https://colab.research.google.com/notebooks/data_table.ipynb>data table notebook</a>'\n",
              "          + ' to learn more about interactive tables.';\n",
              "        element.innerHTML = '';\n",
              "        dataTable['output_type'] = 'display_data';\n",
              "        await google.colab.output.renderOutput(dataTable, element);\n",
              "        const docLink = document.createElement('div');\n",
              "        docLink.innerHTML = docLinkHtml;\n",
              "        element.appendChild(docLink);\n",
              "      }\n",
              "    </script>\n",
              "  </div>\n",
              "\n",
              "\n",
              "<div id=\"df-c1ebf69c-62fb-48e4-aa34-557460fabfd4\">\n",
              "  <button class=\"colab-df-quickchart\" onclick=\"quickchart('df-c1ebf69c-62fb-48e4-aa34-557460fabfd4')\"\n",
              "            title=\"Suggest charts.\"\n",
              "            style=\"display:none;\">\n",
              "\n",
              "<svg xmlns=\"http://www.w3.org/2000/svg\" height=\"24px\"viewBox=\"0 0 24 24\"\n",
              "     width=\"24px\">\n",
              "    <g>\n",
              "        <path d=\"M19 3H5c-1.1 0-2 .9-2 2v14c0 1.1.9 2 2 2h14c1.1 0 2-.9 2-2V5c0-1.1-.9-2-2-2zM9 17H7v-7h2v7zm4 0h-2V7h2v10zm4 0h-2v-4h2v4z\"/>\n",
              "    </g>\n",
              "</svg>\n",
              "  </button>\n",
              "\n",
              "<style>\n",
              "  .colab-df-quickchart {\n",
              "      --bg-color: #E8F0FE;\n",
              "      --fill-color: #1967D2;\n",
              "      --hover-bg-color: #E2EBFA;\n",
              "      --hover-fill-color: #174EA6;\n",
              "      --disabled-fill-color: #AAA;\n",
              "      --disabled-bg-color: #DDD;\n",
              "  }\n",
              "\n",
              "  [theme=dark] .colab-df-quickchart {\n",
              "      --bg-color: #3B4455;\n",
              "      --fill-color: #D2E3FC;\n",
              "      --hover-bg-color: #434B5C;\n",
              "      --hover-fill-color: #FFFFFF;\n",
              "      --disabled-bg-color: #3B4455;\n",
              "      --disabled-fill-color: #666;\n",
              "  }\n",
              "\n",
              "  .colab-df-quickchart {\n",
              "    background-color: var(--bg-color);\n",
              "    border: none;\n",
              "    border-radius: 50%;\n",
              "    cursor: pointer;\n",
              "    display: none;\n",
              "    fill: var(--fill-color);\n",
              "    height: 32px;\n",
              "    padding: 0;\n",
              "    width: 32px;\n",
              "  }\n",
              "\n",
              "  .colab-df-quickchart:hover {\n",
              "    background-color: var(--hover-bg-color);\n",
              "    box-shadow: 0 1px 2px rgba(60, 64, 67, 0.3), 0 1px 3px 1px rgba(60, 64, 67, 0.15);\n",
              "    fill: var(--button-hover-fill-color);\n",
              "  }\n",
              "\n",
              "  .colab-df-quickchart-complete:disabled,\n",
              "  .colab-df-quickchart-complete:disabled:hover {\n",
              "    background-color: var(--disabled-bg-color);\n",
              "    fill: var(--disabled-fill-color);\n",
              "    box-shadow: none;\n",
              "  }\n",
              "\n",
              "  .colab-df-spinner {\n",
              "    border: 2px solid var(--fill-color);\n",
              "    border-color: transparent;\n",
              "    border-bottom-color: var(--fill-color);\n",
              "    animation:\n",
              "      spin 1s steps(1) infinite;\n",
              "  }\n",
              "\n",
              "  @keyframes spin {\n",
              "    0% {\n",
              "      border-color: transparent;\n",
              "      border-bottom-color: var(--fill-color);\n",
              "      border-left-color: var(--fill-color);\n",
              "    }\n",
              "    20% {\n",
              "      border-color: transparent;\n",
              "      border-left-color: var(--fill-color);\n",
              "      border-top-color: var(--fill-color);\n",
              "    }\n",
              "    30% {\n",
              "      border-color: transparent;\n",
              "      border-left-color: var(--fill-color);\n",
              "      border-top-color: var(--fill-color);\n",
              "      border-right-color: var(--fill-color);\n",
              "    }\n",
              "    40% {\n",
              "      border-color: transparent;\n",
              "      border-right-color: var(--fill-color);\n",
              "      border-top-color: var(--fill-color);\n",
              "    }\n",
              "    60% {\n",
              "      border-color: transparent;\n",
              "      border-right-color: var(--fill-color);\n",
              "    }\n",
              "    80% {\n",
              "      border-color: transparent;\n",
              "      border-right-color: var(--fill-color);\n",
              "      border-bottom-color: var(--fill-color);\n",
              "    }\n",
              "    90% {\n",
              "      border-color: transparent;\n",
              "      border-bottom-color: var(--fill-color);\n",
              "    }\n",
              "  }\n",
              "</style>\n",
              "\n",
              "  <script>\n",
              "    async function quickchart(key) {\n",
              "      const quickchartButtonEl =\n",
              "        document.querySelector('#' + key + ' button');\n",
              "      quickchartButtonEl.disabled = true;  // To prevent multiple clicks.\n",
              "      quickchartButtonEl.classList.add('colab-df-spinner');\n",
              "      try {\n",
              "        const charts = await google.colab.kernel.invokeFunction(\n",
              "            'suggestCharts', [key], {});\n",
              "      } catch (error) {\n",
              "        console.error('Error during call to suggestCharts:', error);\n",
              "      }\n",
              "      quickchartButtonEl.classList.remove('colab-df-spinner');\n",
              "      quickchartButtonEl.classList.add('colab-df-quickchart-complete');\n",
              "    }\n",
              "    (() => {\n",
              "      let quickchartButtonEl =\n",
              "        document.querySelector('#df-c1ebf69c-62fb-48e4-aa34-557460fabfd4 button');\n",
              "      quickchartButtonEl.style.display =\n",
              "        google.colab.kernel.accessAllowed ? 'block' : 'none';\n",
              "    })();\n",
              "  </script>\n",
              "</div>\n",
              "    </div>\n",
              "  </div>\n"
            ]
          },
          "metadata": {},
          "execution_count": 100
        }
      ]
    },
    {
      "cell_type": "code",
      "source": [
        "len(df)"
      ],
      "metadata": {
        "colab": {
          "base_uri": "https://localhost:8080/"
        },
        "id": "6q-S2nVORBBU",
        "outputId": "5203de83-01b4-4b55-9412-b30c1020a645"
      },
      "execution_count": 101,
      "outputs": [
        {
          "output_type": "execute_result",
          "data": {
            "text/plain": [
              "6791"
            ]
          },
          "metadata": {},
          "execution_count": 101
        }
      ]
    },
    {
      "cell_type": "code",
      "source": [
        "#index = pd.to_datetime(['2023-07-03 00:00', '2023-07-03 00:05', '2023-07-03 00:10', '2023-07-03 00:15'])\n",
        "\n",
        "# Filter data for the specified date range\n",
        "start_date ='2023-08-01'\n",
        "end_date =  '2023-08-03'\n",
        "df = df[start_date:end_date]\n",
        "\n",
        "print(df)"
      ],
      "metadata": {
        "colab": {
          "base_uri": "https://localhost:8080/"
        },
        "id": "PMCTigZrRFW9",
        "outputId": "f8378bc3-e9cf-48b3-924d-9f90340ef7e1"
      },
      "execution_count": 102,
      "outputs": [
        {
          "output_type": "stream",
          "name": "stdout",
          "text": [
            "             time  volume   open   high    low  close\n",
            "date                                                 \n",
            "2023-08-01   0:00      59  81.64  81.67  81.63  81.65\n",
            "2023-08-01   0:05     217  81.64  81.64  81.57  81.61\n",
            "2023-08-01   0:10     228  81.64  81.67  81.57  81.66\n",
            "2023-08-01   0:15      48  81.66  81.69  81.66  81.67\n",
            "2023-08-01   0:20       1  81.68  81.68  81.68  81.68\n",
            "...           ...     ...    ...    ...    ...    ...\n",
            "2023-08-03  23:35      91  81.80  81.82  81.79  81.80\n",
            "2023-08-03  23:40      66  81.80  81.81  81.78  81.79\n",
            "2023-08-03  23:45     135  81.80  81.81  81.78  81.79\n",
            "2023-08-03  23:50     153  81.79  81.81  81.76  81.76\n",
            "2023-08-03  23:55      39  81.76  81.77  81.75  81.77\n",
            "\n",
            "[879 rows x 6 columns]\n"
          ]
        }
      ]
    },
    {
      "cell_type": "markdown",
      "metadata": {
        "id": "yXBNX2FHpVti"
      },
      "source": [
        "- dropping"
      ]
    },
    {
      "cell_type": "code",
      "execution_count": 103,
      "metadata": {
        "colab": {
          "base_uri": "https://localhost:8080/",
          "height": 238
        },
        "id": "D4wCPrty_NBZ",
        "outputId": "830e1c6d-70f7-4f88-e93c-3c13e5009f64"
      },
      "outputs": [
        {
          "output_type": "execute_result",
          "data": {
            "text/plain": [
              "            close\n",
              "date             \n",
              "2023-08-01  81.65\n",
              "2023-08-01  81.61\n",
              "2023-08-01  81.66\n",
              "2023-08-01  81.67\n",
              "2023-08-01  81.68"
            ],
            "text/html": [
              "\n",
              "  <div id=\"df-4b0b539e-d3ee-463b-a80a-1a7eccb8ee84\" class=\"colab-df-container\">\n",
              "    <div>\n",
              "<style scoped>\n",
              "    .dataframe tbody tr th:only-of-type {\n",
              "        vertical-align: middle;\n",
              "    }\n",
              "\n",
              "    .dataframe tbody tr th {\n",
              "        vertical-align: top;\n",
              "    }\n",
              "\n",
              "    .dataframe thead th {\n",
              "        text-align: right;\n",
              "    }\n",
              "</style>\n",
              "<table border=\"1\" class=\"dataframe\">\n",
              "  <thead>\n",
              "    <tr style=\"text-align: right;\">\n",
              "      <th></th>\n",
              "      <th>close</th>\n",
              "    </tr>\n",
              "    <tr>\n",
              "      <th>date</th>\n",
              "      <th></th>\n",
              "    </tr>\n",
              "  </thead>\n",
              "  <tbody>\n",
              "    <tr>\n",
              "      <th>2023-08-01</th>\n",
              "      <td>81.65</td>\n",
              "    </tr>\n",
              "    <tr>\n",
              "      <th>2023-08-01</th>\n",
              "      <td>81.61</td>\n",
              "    </tr>\n",
              "    <tr>\n",
              "      <th>2023-08-01</th>\n",
              "      <td>81.66</td>\n",
              "    </tr>\n",
              "    <tr>\n",
              "      <th>2023-08-01</th>\n",
              "      <td>81.67</td>\n",
              "    </tr>\n",
              "    <tr>\n",
              "      <th>2023-08-01</th>\n",
              "      <td>81.68</td>\n",
              "    </tr>\n",
              "  </tbody>\n",
              "</table>\n",
              "</div>\n",
              "    <div class=\"colab-df-buttons\">\n",
              "\n",
              "  <div class=\"colab-df-container\">\n",
              "    <button class=\"colab-df-convert\" onclick=\"convertToInteractive('df-4b0b539e-d3ee-463b-a80a-1a7eccb8ee84')\"\n",
              "            title=\"Convert this dataframe to an interactive table.\"\n",
              "            style=\"display:none;\">\n",
              "\n",
              "  <svg xmlns=\"http://www.w3.org/2000/svg\" height=\"24px\" viewBox=\"0 -960 960 960\">\n",
              "    <path d=\"M120-120v-720h720v720H120Zm60-500h600v-160H180v160Zm220 220h160v-160H400v160Zm0 220h160v-160H400v160ZM180-400h160v-160H180v160Zm440 0h160v-160H620v160ZM180-180h160v-160H180v160Zm440 0h160v-160H620v160Z\"/>\n",
              "  </svg>\n",
              "    </button>\n",
              "\n",
              "  <style>\n",
              "    .colab-df-container {\n",
              "      display:flex;\n",
              "      gap: 12px;\n",
              "    }\n",
              "\n",
              "    .colab-df-convert {\n",
              "      background-color: #E8F0FE;\n",
              "      border: none;\n",
              "      border-radius: 50%;\n",
              "      cursor: pointer;\n",
              "      display: none;\n",
              "      fill: #1967D2;\n",
              "      height: 32px;\n",
              "      padding: 0 0 0 0;\n",
              "      width: 32px;\n",
              "    }\n",
              "\n",
              "    .colab-df-convert:hover {\n",
              "      background-color: #E2EBFA;\n",
              "      box-shadow: 0px 1px 2px rgba(60, 64, 67, 0.3), 0px 1px 3px 1px rgba(60, 64, 67, 0.15);\n",
              "      fill: #174EA6;\n",
              "    }\n",
              "\n",
              "    .colab-df-buttons div {\n",
              "      margin-bottom: 4px;\n",
              "    }\n",
              "\n",
              "    [theme=dark] .colab-df-convert {\n",
              "      background-color: #3B4455;\n",
              "      fill: #D2E3FC;\n",
              "    }\n",
              "\n",
              "    [theme=dark] .colab-df-convert:hover {\n",
              "      background-color: #434B5C;\n",
              "      box-shadow: 0px 1px 3px 1px rgba(0, 0, 0, 0.15);\n",
              "      filter: drop-shadow(0px 1px 2px rgba(0, 0, 0, 0.3));\n",
              "      fill: #FFFFFF;\n",
              "    }\n",
              "  </style>\n",
              "\n",
              "    <script>\n",
              "      const buttonEl =\n",
              "        document.querySelector('#df-4b0b539e-d3ee-463b-a80a-1a7eccb8ee84 button.colab-df-convert');\n",
              "      buttonEl.style.display =\n",
              "        google.colab.kernel.accessAllowed ? 'block' : 'none';\n",
              "\n",
              "      async function convertToInteractive(key) {\n",
              "        const element = document.querySelector('#df-4b0b539e-d3ee-463b-a80a-1a7eccb8ee84');\n",
              "        const dataTable =\n",
              "          await google.colab.kernel.invokeFunction('convertToInteractive',\n",
              "                                                    [key], {});\n",
              "        if (!dataTable) return;\n",
              "\n",
              "        const docLinkHtml = 'Like what you see? Visit the ' +\n",
              "          '<a target=\"_blank\" href=https://colab.research.google.com/notebooks/data_table.ipynb>data table notebook</a>'\n",
              "          + ' to learn more about interactive tables.';\n",
              "        element.innerHTML = '';\n",
              "        dataTable['output_type'] = 'display_data';\n",
              "        await google.colab.output.renderOutput(dataTable, element);\n",
              "        const docLink = document.createElement('div');\n",
              "        docLink.innerHTML = docLinkHtml;\n",
              "        element.appendChild(docLink);\n",
              "      }\n",
              "    </script>\n",
              "  </div>\n",
              "\n",
              "\n",
              "<div id=\"df-b6b8032b-b430-4ed6-802f-794cf260dad3\">\n",
              "  <button class=\"colab-df-quickchart\" onclick=\"quickchart('df-b6b8032b-b430-4ed6-802f-794cf260dad3')\"\n",
              "            title=\"Suggest charts.\"\n",
              "            style=\"display:none;\">\n",
              "\n",
              "<svg xmlns=\"http://www.w3.org/2000/svg\" height=\"24px\"viewBox=\"0 0 24 24\"\n",
              "     width=\"24px\">\n",
              "    <g>\n",
              "        <path d=\"M19 3H5c-1.1 0-2 .9-2 2v14c0 1.1.9 2 2 2h14c1.1 0 2-.9 2-2V5c0-1.1-.9-2-2-2zM9 17H7v-7h2v7zm4 0h-2V7h2v10zm4 0h-2v-4h2v4z\"/>\n",
              "    </g>\n",
              "</svg>\n",
              "  </button>\n",
              "\n",
              "<style>\n",
              "  .colab-df-quickchart {\n",
              "      --bg-color: #E8F0FE;\n",
              "      --fill-color: #1967D2;\n",
              "      --hover-bg-color: #E2EBFA;\n",
              "      --hover-fill-color: #174EA6;\n",
              "      --disabled-fill-color: #AAA;\n",
              "      --disabled-bg-color: #DDD;\n",
              "  }\n",
              "\n",
              "  [theme=dark] .colab-df-quickchart {\n",
              "      --bg-color: #3B4455;\n",
              "      --fill-color: #D2E3FC;\n",
              "      --hover-bg-color: #434B5C;\n",
              "      --hover-fill-color: #FFFFFF;\n",
              "      --disabled-bg-color: #3B4455;\n",
              "      --disabled-fill-color: #666;\n",
              "  }\n",
              "\n",
              "  .colab-df-quickchart {\n",
              "    background-color: var(--bg-color);\n",
              "    border: none;\n",
              "    border-radius: 50%;\n",
              "    cursor: pointer;\n",
              "    display: none;\n",
              "    fill: var(--fill-color);\n",
              "    height: 32px;\n",
              "    padding: 0;\n",
              "    width: 32px;\n",
              "  }\n",
              "\n",
              "  .colab-df-quickchart:hover {\n",
              "    background-color: var(--hover-bg-color);\n",
              "    box-shadow: 0 1px 2px rgba(60, 64, 67, 0.3), 0 1px 3px 1px rgba(60, 64, 67, 0.15);\n",
              "    fill: var(--button-hover-fill-color);\n",
              "  }\n",
              "\n",
              "  .colab-df-quickchart-complete:disabled,\n",
              "  .colab-df-quickchart-complete:disabled:hover {\n",
              "    background-color: var(--disabled-bg-color);\n",
              "    fill: var(--disabled-fill-color);\n",
              "    box-shadow: none;\n",
              "  }\n",
              "\n",
              "  .colab-df-spinner {\n",
              "    border: 2px solid var(--fill-color);\n",
              "    border-color: transparent;\n",
              "    border-bottom-color: var(--fill-color);\n",
              "    animation:\n",
              "      spin 1s steps(1) infinite;\n",
              "  }\n",
              "\n",
              "  @keyframes spin {\n",
              "    0% {\n",
              "      border-color: transparent;\n",
              "      border-bottom-color: var(--fill-color);\n",
              "      border-left-color: var(--fill-color);\n",
              "    }\n",
              "    20% {\n",
              "      border-color: transparent;\n",
              "      border-left-color: var(--fill-color);\n",
              "      border-top-color: var(--fill-color);\n",
              "    }\n",
              "    30% {\n",
              "      border-color: transparent;\n",
              "      border-left-color: var(--fill-color);\n",
              "      border-top-color: var(--fill-color);\n",
              "      border-right-color: var(--fill-color);\n",
              "    }\n",
              "    40% {\n",
              "      border-color: transparent;\n",
              "      border-right-color: var(--fill-color);\n",
              "      border-top-color: var(--fill-color);\n",
              "    }\n",
              "    60% {\n",
              "      border-color: transparent;\n",
              "      border-right-color: var(--fill-color);\n",
              "    }\n",
              "    80% {\n",
              "      border-color: transparent;\n",
              "      border-right-color: var(--fill-color);\n",
              "      border-bottom-color: var(--fill-color);\n",
              "    }\n",
              "    90% {\n",
              "      border-color: transparent;\n",
              "      border-bottom-color: var(--fill-color);\n",
              "    }\n",
              "  }\n",
              "</style>\n",
              "\n",
              "  <script>\n",
              "    async function quickchart(key) {\n",
              "      const quickchartButtonEl =\n",
              "        document.querySelector('#' + key + ' button');\n",
              "      quickchartButtonEl.disabled = true;  // To prevent multiple clicks.\n",
              "      quickchartButtonEl.classList.add('colab-df-spinner');\n",
              "      try {\n",
              "        const charts = await google.colab.kernel.invokeFunction(\n",
              "            'suggestCharts', [key], {});\n",
              "      } catch (error) {\n",
              "        console.error('Error during call to suggestCharts:', error);\n",
              "      }\n",
              "      quickchartButtonEl.classList.remove('colab-df-spinner');\n",
              "      quickchartButtonEl.classList.add('colab-df-quickchart-complete');\n",
              "    }\n",
              "    (() => {\n",
              "      let quickchartButtonEl =\n",
              "        document.querySelector('#df-b6b8032b-b430-4ed6-802f-794cf260dad3 button');\n",
              "      quickchartButtonEl.style.display =\n",
              "        google.colab.kernel.accessAllowed ? 'block' : 'none';\n",
              "    })();\n",
              "  </script>\n",
              "</div>\n",
              "    </div>\n",
              "  </div>\n"
            ]
          },
          "metadata": {},
          "execution_count": 103
        }
      ],
      "source": [
        "df = df.drop(['high','low','volume','open', 'time'], axis=1)\n",
        "df.head()"
      ]
    },
    {
      "cell_type": "code",
      "execution_count": 104,
      "metadata": {
        "colab": {
          "base_uri": "https://localhost:8080/"
        },
        "id": "6BEyI0w8ylc3",
        "outputId": "4bc3368d-a646-4e37-a476-27a7cc1bae78"
      },
      "outputs": [
        {
          "output_type": "execute_result",
          "data": {
            "text/plain": [
              "array([[81.65],\n",
              "       [81.61],\n",
              "       [81.66],\n",
              "       [81.67],\n",
              "       [81.68]])"
            ]
          },
          "metadata": {},
          "execution_count": 104
        }
      ],
      "source": [
        "dataset = df.values\n",
        "dataset = dataset.astype('float64')\n",
        "dataset[:5]"
      ]
    },
    {
      "cell_type": "markdown",
      "metadata": {
        "id": "_4zKsyTypgcL"
      },
      "source": [
        "### plotting data"
      ]
    },
    {
      "cell_type": "code",
      "execution_count": 105,
      "metadata": {
        "colab": {
          "base_uri": "https://localhost:8080/",
          "height": 430
        },
        "id": "yRU_ga_rzHv5",
        "outputId": "5497be8a-22f4-406b-c10e-09f96c7c7686"
      },
      "outputs": [
        {
          "output_type": "display_data",
          "data": {
            "text/plain": [
              "<Figure size 640x480 with 1 Axes>"
            ],
            "image/png": "[encoded data removed]"
          },
          "metadata": {}
        }
      ],
      "source": [
        "plt.plot(dataset)\n",
        "plt.show()"
      ]
    },
    {
      "cell_type": "markdown",
      "metadata": {
        "id": "wxcjKZ50pnKA"
      },
      "source": [
        "### normalizing data"
      ]
    },
    {
      "cell_type": "code",
      "execution_count": 106,
      "metadata": {
        "colab": {
          "base_uri": "https://localhost:8080/"
        },
        "id": "yHGcWJCqzy03",
        "outputId": "ce360d5d-ed6b-4ac0-a139-b7038718a541"
      },
      "outputs": [
        {
          "output_type": "stream",
          "name": "stdout",
          "text": [
            "[[0.78975741]\n",
            " [0.77897574]\n",
            " [0.79245283]\n",
            " [0.79514825]\n",
            " [0.79784367]] \n",
            "\n",
            "(879, 1)\n"
          ]
        }
      ],
      "source": [
        "scaler = MinMaxScaler(feature_range = (0,1))\n",
        "dataset = scaler.fit_transform(dataset)\n",
        "print(dataset[:5],'\\n')\n",
        "print(dataset.shape)"
      ]
    },
    {
      "cell_type": "markdown",
      "metadata": {
        "id": "v-odIRJ_p0ub"
      },
      "source": [
        "### Method for making data and timestep"
      ]
    },
    {
      "cell_type": "code",
      "execution_count": 107,
      "metadata": {
        "id": "FTc_w35542AQ"
      },
      "outputs": [],
      "source": [
        "# lookback -> timestep\n",
        "def create_dataset(dataset,look_back):\n",
        "    data_x, data_y = [],[] #data_x is data and data_y is label\n",
        "    for i in range(len(dataset)-look_back-1): #we want if data be beyond len(sequendatasetce), the command will not continue\n",
        "        data_x.append(dataset[i:(i+look_back),0])\n",
        "        data_y.append(dataset[i+look_back,0])\n",
        "    return np.array(data_x) , np.array(data_y)"
      ]
    },
    {
      "cell_type": "markdown",
      "metadata": {
        "id": "IR1wen6crVYY"
      },
      "source": [
        "### split dataset"
      ]
    },
    {
      "cell_type": "code",
      "execution_count": 108,
      "metadata": {
        "colab": {
          "base_uri": "https://localhost:8080/"
        },
        "id": "F2bQwF2m75fB",
        "outputId": "69f8a945-2b13-4ffc-be1c-918374922faa"
      },
      "outputs": [
        {
          "output_type": "stream",
          "name": "stdout",
          "text": [
            "(703, 1)\n",
            "(176, 1)\n"
          ]
        }
      ],
      "source": [
        "train_size = int(len(dataset) * 0.80)\n",
        "train , test = dataset[0:train_size,:] , dataset[train_size:len(dataset),:]\n",
        "print(train.shape)\n",
        "print(test.shape)"
      ]
    },
    {
      "cell_type": "code",
      "execution_count": 109,
      "metadata": {
        "colab": {
          "base_uri": "https://localhost:8080/"
        },
        "id": "UXfmcI5JsRjm",
        "outputId": "e1b990fd-778c-409a-a5f5-f4a5cafa8bf1"
      },
      "outputs": [
        {
          "output_type": "execute_result",
          "data": {
            "text/plain": [
              "array([[0.78975741],\n",
              "       [0.77897574],\n",
              "       [0.79245283]])"
            ]
          },
          "metadata": {},
          "execution_count": 109
        }
      ],
      "source": [
        "train[:3]"
      ]
    },
    {
      "cell_type": "markdown",
      "metadata": {
        "id": "Zonvsx80w_HW"
      },
      "source": [
        "### Making data train & test x,y"
      ]
    },
    {
      "cell_type": "code",
      "execution_count": 110,
      "metadata": {
        "id": "rfssedbp7stl"
      },
      "outputs": [],
      "source": [
        "n_steps = 5 #timestep or look_up\n",
        "\n",
        "\n",
        "train_x , train_y = create_dataset(train, n_steps)\n",
        "test_x , test_y = create_dataset(test, n_steps)\n",
        "\n",
        "#train_x , train_y = create_dataset(n_steps, n_features)\n",
        "#test_x , test_y = create_dataset(n_steps, n_features)"
      ]
    },
    {
      "cell_type": "code",
      "execution_count": 111,
      "metadata": {
        "colab": {
          "base_uri": "https://localhost:8080/"
        },
        "id": "QYRpaSp4wO0h",
        "outputId": "829863d6-03e0-4e47-ba59-5864558a8e9f"
      },
      "outputs": [
        {
          "output_type": "stream",
          "name": "stdout",
          "text": [
            "(697, 5) (697,)\n",
            "(170, 5) (170,)\n"
          ]
        }
      ],
      "source": [
        "print(train_x.shape , train_y.shape)\n",
        "print(test_x.shape , test_y.shape)"
      ]
    },
    {
      "cell_type": "code",
      "execution_count": 112,
      "metadata": {
        "colab": {
          "base_uri": "https://localhost:8080/"
        },
        "id": "EF_5EXbI9rWH",
        "outputId": "97feee5a-3f0f-48cd-a07c-823cb524cae7"
      },
      "outputs": [
        {
          "output_type": "execute_result",
          "data": {
            "text/plain": [
              "array([0.79245283, 0.79245283, 0.78436658])"
            ]
          },
          "metadata": {},
          "execution_count": 112
        }
      ],
      "source": [
        "train_y[:3]"
      ]
    },
    {
      "cell_type": "code",
      "execution_count": 113,
      "metadata": {
        "colab": {
          "base_uri": "https://localhost:8080/"
        },
        "id": "7eVCvrxwAgyK",
        "outputId": "56684b55-063c-4d0c-d7d7-0393a4e6ecce"
      },
      "outputs": [
        {
          "output_type": "stream",
          "name": "stdout",
          "text": [
            "[0.10242588 0.10512129 0.10242588 0.12398922 0.12668464] 0.15094339622641684\n",
            "[0.10512129 0.10242588 0.12398922 0.12668464 0.1509434 ] 0.15633423180592843\n",
            "[0.10242588 0.12398922 0.12668464 0.1509434  0.15633423] 0.199460916442046\n",
            "[0.12398922 0.12668464 0.1509434  0.15633423 0.19946092] 0.18598382749325992\n",
            "[0.12668464 0.1509434  0.15633423 0.19946092 0.18598383] 0.20215633423180535\n",
            "[0.1509434  0.15633423 0.19946092 0.18598383 0.20215633] 0.199460916442046\n",
            "[0.15633423 0.19946092 0.18598383 0.20215633 0.19946092] 0.2048517520215647\n",
            "[0.19946092 0.18598383 0.20215633 0.19946092 0.20485175] 0.1482479784366575\n",
            "[0.18598383 0.20215633 0.19946092 0.20485175 0.14824798] 0.1455525606469017\n",
            "[0.20215633 0.19946092 0.20485175 0.14824798 0.14555256] 0.140161725067383\n",
            "[0.19946092 0.20485175 0.14824798 0.14555256 0.14016173] 0.1455525606469017\n",
            "[0.20485175 0.14824798 0.14555256 0.14016173 0.14555256] 0.1455525606469017\n",
            "[0.14824798 0.14555256 0.14016173 0.14555256 0.14555256] 0.16172506738544357\n",
            "[0.14555256 0.14016173 0.14555256 0.14555256 0.16172507] 0.15902964959568777\n",
            "[0.14016173 0.14555256 0.14555256 0.16172507 0.15902965] 0.15094339622641684\n",
            "[0.14555256 0.14555256 0.16172507 0.15902965 0.1509434 ] 0.18598382749325992\n",
            "[0.14555256 0.16172507 0.15902965 0.1509434  0.18598383] 0.21832884097035077\n",
            "[0.16172507 0.15902965 0.1509434  0.18598383 0.21832884] 0.21832884097035077\n",
            "[0.15902965 0.1509434  0.18598383 0.21832884 0.21832884] 0.2345013477088962\n",
            "[0.1509434  0.18598383 0.21832884 0.21832884 0.23450135] 0.18328840970350413\n",
            "[0.18598383 0.21832884 0.21832884 0.23450135 0.18328841] 0.18059299191374834\n",
            "[0.21832884 0.21832884 0.23450135 0.18328841 0.18059299] 0.18598382749325992\n",
            "[0.21832884 0.23450135 0.18328841 0.18059299 0.18598383] 0.1698113207547145\n",
            "[0.23450135 0.18328841 0.18059299 0.18598383 0.16981132] 0.18059299191374834\n",
            "[0.18328841 0.18059299 0.18598383 0.16981132 0.18059299] 0.177897574123989\n",
            "[0.18059299 0.18598383 0.16981132 0.18059299 0.17789757] 0.177897574123989\n",
            "[0.18598383 0.16981132 0.18059299 0.17789757 0.17789757] 0.177897574123989\n",
            "[0.16981132 0.18059299 0.17789757 0.17789757 0.17789757] 0.199460916442046\n",
            "[0.18059299 0.17789757 0.17789757 0.17789757 0.19946092] 0.2291105121293775\n",
            "[0.17789757 0.17789757 0.17789757 0.19946092 0.22911051] 0.23719676549865198\n",
            "[0.17789757 0.17789757 0.19946092 0.22911051 0.23719677] 0.2345013477088962\n",
            "[0.17789757 0.19946092 0.22911051 0.23719677 0.23450135] 0.2345013477088962\n",
            "[0.19946092 0.22911051 0.23719677 0.23450135 0.23450135] 0.24528301886792292\n",
            "[0.22911051 0.23719677 0.23450135 0.23450135 0.24528302] 0.2857142857142847\n",
            "[0.23719677 0.23450135 0.23450135 0.24528302 0.28571429] 0.2641509433962277\n",
            "[0.23450135 0.23450135 0.24528302 0.28571429 0.26415094] 0.24528301886792292\n",
            "[0.23450135 0.24528302 0.28571429 0.26415094 0.24528302] 0.2857142857142847\n",
            "[0.24528302 0.28571429 0.26415094 0.24528302 0.28571429] 0.415094339622641\n",
            "[0.28571429 0.26415094 0.24528302 0.28571429 0.41509434] 0.5444743935309937\n",
            "[0.26415094 0.24528302 0.28571429 0.41509434 0.54447439] 0.48787061994609005\n",
            "[0.24528302 0.28571429 0.41509434 0.54447439 0.48787062] 0.4636118598382737\n",
            "[0.28571429 0.41509434 0.54447439 0.48787062 0.46361186] 0.3746630727762792\n",
            "[0.41509434 0.54447439 0.48787062 0.46361186 0.37466307] 0.40161725067385134\n",
            "[0.54447439 0.48787062 0.46361186 0.37466307 0.40161725] 0.37735849056603854\n",
            "[0.48787062 0.46361186 0.37466307 0.40161725 0.37735849] 0.3234501347708907\n",
            "[0.46361186 0.37466307 0.40161725 0.37735849 0.32345013] 0.37196765498651985\n",
            "[0.37466307 0.40161725 0.37735849 0.32345013 0.37196765] 0.35040431266846284\n",
            "[0.40161725 0.37735849 0.32345013 0.37196765 0.35040431] 0.3692722371967676\n",
            "[0.37735849 0.32345013 0.37196765 0.35040431 0.36927224] 0.4123989218328852\n",
            "[0.32345013 0.37196765 0.35040431 0.36927224 0.41239892] 0.42857142857142705\n",
            "[0.37196765 0.35040431 0.36927224 0.41239892 0.42857143] 0.4204851752021561\n",
            "[0.35040431 0.36927224 0.41239892 0.42857143 0.42048518] 0.4501347708894876\n",
            "[0.36927224 0.41239892 0.42857143 0.42048518 0.45013477] 0.5148247978436657\n",
            "[0.41239892 0.42857143 0.42048518 0.45013477 0.5148248 ] 0.4204851752021561\n",
            "[0.42857143 0.42048518 0.45013477 0.5148248  0.42048518] 0.38814016172506527\n",
            "[0.42048518 0.45013477 0.5148248  0.42048518 0.38814016] 0.42318059299191546\n",
            "[0.45013477 0.5148248  0.42048518 0.38814016 0.42318059] 0.42318059299191546\n",
            "[0.5148248  0.42048518 0.38814016 0.42318059 0.42318059] 0.42587601078167125\n",
            "[0.42048518 0.38814016 0.42318059 0.42318059 0.42587601] 0.5013477088948761\n",
            "[0.38814016 0.42318059 0.42318059 0.42587601 0.50134771] 0.5606469002695391\n",
            "[0.42318059 0.42318059 0.42587601 0.50134771 0.5606469 ] 0.525606469002696\n",
            "[0.42318059 0.42587601 0.50134771 0.5606469  0.52560647] 0.48247978436657846\n",
            "[0.42587601 0.50134771 0.5606469  0.52560647 0.48247978] 0.4986522911051203\n",
            "[0.50134771 0.5606469  0.52560647 0.48247978 0.49865229] 0.5444743935309937\n",
            "[0.5606469  0.52560647 0.48247978 0.49865229 0.54447439] 0.5822102425875997\n",
            "[0.52560647 0.48247978 0.49865229 0.54447439 0.58221024] 0.5795148247978439\n",
            "[0.48247978 0.49865229 0.54447439 0.58221024 0.57951482] 0.6172506738544463\n",
            "[0.49865229 0.54447439 0.58221024 0.57951482 0.61725067] 0.5768194070080845\n",
            "[0.54447439 0.58221024 0.57951482 0.61725067 0.57681941] 0.6576819407008081\n",
            "[0.58221024 0.57951482 0.61725067 0.57681941 0.65768194] 0.644204851752022\n",
            "[0.57951482 0.61725067 0.57681941 0.65768194 0.64420485] 0.6469002695417778\n",
            "[0.61725067 0.57681941 0.65768194 0.64420485 0.64690027] 0.652291105121293\n",
            "[0.57681941 0.65768194 0.64420485 0.64690027 0.65229111] 0.6765498652291093\n",
            "[0.65768194 0.64420485 0.64690027 0.65229111 0.67654987] 0.7142857142857153\n",
            "[0.64420485 0.64690027 0.65229111 0.67654987 0.71428571] 0.6873315363881396\n",
            "[0.64690027 0.65229111 0.67654987 0.71428571 0.68733154] 0.6603773584905639\n",
            "[0.65229111 0.67654987 0.71428571 0.68733154 0.66037736] 0.6388140161725069\n",
            "[0.67654987 0.71428571 0.68733154 0.66037736 0.63881402] 0.7008086253369257\n",
            "[0.71428571 0.68733154 0.66037736 0.63881402 0.70080863] 0.7035040431266815\n",
            "[0.68733154 0.66037736 0.63881402 0.70080863 0.70350404] 0.7196765498652269\n",
            "[0.66037736 0.63881402 0.70080863 0.70350404 0.71967655] 0.770889487870619\n",
            "[0.63881402 0.70080863 0.70350404 0.71967655 0.77088949] 0.7493261455525584\n",
            "[0.70080863 0.70350404 0.71967655 0.77088949 0.74932615] 0.733153638814013\n",
            "[0.70350404 0.71967655 0.77088949 0.74932615 0.73315364] 0.725067385444742\n",
            "[0.71967655 0.77088949 0.74932615 0.73315364 0.72506739] 0.7789757412398899\n",
            "[0.77088949 0.74932615 0.73315364 0.72506739 0.77897574] 0.7870619946091644\n",
            "[0.74932615 0.73315364 0.72506739 0.77897574 0.78706199] 0.746630727762799\n",
            "[0.73315364 0.72506739 0.77897574 0.78706199 0.74663073] 0.7816711590296492\n",
            "[0.72506739 0.77897574 0.78706199 0.74663073 0.78167116] 0.8032345013477098\n",
            "[0.77897574 0.78706199 0.74663073 0.78167116 0.8032345 ] 0.7870619946091644\n",
            "[0.78706199 0.74663073 0.78167116 0.8032345  0.78706199] 0.7978436657681947\n",
            "[0.74663073 0.78167116 0.8032345  0.78706199 0.79784367] 0.7951482479784353\n",
            "[0.78167116 0.8032345  0.78706199 0.79784367 0.79514825] 0.8167115902964959\n",
            "[0.8032345  0.78706199 0.79784367 0.79514825 0.81671159] 0.8274932614555262\n",
            "[0.78706199 0.79784367 0.79514825 0.81671159 0.82749326] 0.843665768194068\n",
            "[0.79784367 0.79514825 0.81671159 0.82749326 0.84366577] 0.805929919137462\n",
            "[0.79514825 0.81671159 0.82749326 0.84366577 0.80592992] 0.7897574123989237\n",
            "[0.81671159 0.82749326 0.84366577 0.80592992 0.78975741] 0.784366576819405\n",
            "[0.82749326 0.84366577 0.80592992 0.78975741 0.78436658] 0.7762803234501305\n",
            "[0.84366577 0.80592992 0.78975741 0.78436658 0.77628032] 0.7628032345013445\n",
            "[0.80592992 0.78975741 0.78436658 0.77628032 0.76280323] 0.7547169811320735\n",
            "[0.78975741 0.78436658 0.77628032 0.76280323 0.75471698] 0.784366576819405\n",
            "[0.78436658 0.77628032 0.76280323 0.75471698 0.78436658] 0.7520215633423177\n",
            "[0.77628032 0.76280323 0.75471698 0.78436658 0.75202156] 0.7628032345013445\n",
            "[0.76280323 0.75471698 0.78436658 0.75202156 0.76280323] 0.7816711590296492\n",
            "[0.75471698 0.78436658 0.75202156 0.76280323 0.78167116] 0.7654986522911038\n",
            "[0.78436658 0.75202156 0.76280323 0.78167116 0.76549865] 0.7735849056603783\n",
            "[0.75202156 0.76280323 0.78167116 0.76549865 0.77358491] 0.784366576819405\n",
            "[0.76280323 0.78167116 0.76549865 0.77358491 0.78436658] 0.7870619946091644\n",
            "[0.78167116 0.76549865 0.77358491 0.78436658 0.78706199] 0.7870619946091644\n",
            "[0.76549865 0.77358491 0.78436658 0.78706199 0.78706199] 0.7870619946091644\n",
            "[0.77358491 0.78436658 0.78706199 0.78706199 0.78706199] 0.7897574123989237\n",
            "[0.78436658 0.78706199 0.78706199 0.78706199 0.78975741] 0.7897574123989237\n",
            "[0.78706199 0.78706199 0.78706199 0.78975741 0.78975741] 0.7681940700808596\n",
            "[0.78706199 0.78706199 0.78975741 0.78975741 0.76819407] 0.7762803234501305\n",
            "[0.78706199 0.78975741 0.78975741 0.76819407 0.77628032] 0.7681940700808596\n",
            "[0.78975741 0.78975741 0.76819407 0.77628032 0.76819407] 0.7762803234501305\n",
            "[0.78975741 0.76819407 0.77628032 0.76819407 0.77628032] 0.784366576819405\n",
            "[0.76819407 0.77628032 0.76819407 0.77628032 0.78436658] 0.8032345013477098\n",
            "[0.77628032 0.76819407 0.77628032 0.78436658 0.8032345 ] 0.805929919137462\n",
            "[0.76819407 0.77628032 0.78436658 0.8032345  0.80592992] 0.8140161725067365\n",
            "[0.77628032 0.78436658 0.8032345  0.80592992 0.81401617] 0.7978436657681947\n",
            "[0.78436658 0.8032345  0.80592992 0.81401617 0.79784367] 0.8086253369272214\n",
            "[0.8032345  0.80592992 0.81401617 0.79784367 0.80862534] 0.8086253369272214\n",
            "[0.80592992 0.81401617 0.79784367 0.80862534 0.80862534] 0.8221024258760075\n",
            "[0.81401617 0.79784367 0.80862534 0.80862534 0.82210243] 0.8167115902964959\n",
            "[0.79784367 0.80862534 0.80862534 0.82210243 0.81671159] 0.8221024258760075\n",
            "[0.80862534 0.80862534 0.82210243 0.81671159 0.82210243] 0.8247978436657668\n",
            "[0.80862534 0.82210243 0.81671159 0.82210243 0.82479784] 0.830188679245282\n",
            "[0.82210243 0.81671159 0.82210243 0.82479784 0.83018868] 0.8382749326145529\n",
            "[0.81671159 0.82210243 0.82479784 0.83018868 0.83827493] 0.8274932614555262\n",
            "[0.82210243 0.82479784 0.83018868 0.83827493 0.82749326] 0.8247978436657668\n",
            "[0.82479784 0.83018868 0.83827493 0.82749326 0.82479784] 0.8194070080862552\n",
            "[0.83018868 0.83827493 0.82749326 0.82479784 0.81940701] 0.8194070080862552\n",
            "[0.83827493 0.82749326 0.82479784 0.81940701 0.81940701] 0.8086253369272214\n",
            "[0.82749326 0.82479784 0.81940701 0.81940701 0.80862534] 0.8113207547169807\n",
            "[0.82479784 0.81940701 0.81940701 0.80862534 0.81132075] 0.8113207547169807\n",
            "[0.81940701 0.81940701 0.80862534 0.81132075 0.81132075] 0.8113207547169807\n",
            "[0.81940701 0.80862534 0.81132075 0.81132075 0.81132075] 0.8113207547169807\n",
            "[0.80862534 0.81132075 0.81132075 0.81132075 0.81132075] 0.8113207547169807\n",
            "[0.81132075 0.81132075 0.81132075 0.81132075 0.81132075] 0.8113207547169807\n",
            "[0.81132075 0.81132075 0.81132075 0.81132075 0.81132075] 0.8113207547169807\n",
            "[0.81132075 0.81132075 0.81132075 0.81132075 0.81132075] 0.8113207547169807\n",
            "[0.81132075 0.81132075 0.81132075 0.81132075 0.81132075] 0.8113207547169807\n",
            "[0.81132075 0.81132075 0.81132075 0.81132075 0.81132075] 0.8113207547169807\n",
            "[0.81132075 0.81132075 0.81132075 0.81132075 0.81132075] 0.8113207547169807\n",
            "[0.81132075 0.81132075 0.81132075 0.81132075 0.81132075] 0.8113207547169807\n",
            "[0.81132075 0.81132075 0.81132075 0.81132075 0.81132075] 0.8113207547169807\n",
            "[0.81132075 0.81132075 0.81132075 0.81132075 0.81132075] 0.8032345013477098\n",
            "[0.81132075 0.81132075 0.81132075 0.81132075 0.8032345 ] 0.8221024258760075\n",
            "[0.81132075 0.81132075 0.81132075 0.8032345  0.82210243] 0.8167115902964959\n",
            "[0.81132075 0.81132075 0.8032345  0.82210243 0.81671159] 0.8113207547169807\n",
            "[0.81132075 0.8032345  0.82210243 0.81671159 0.81132075] 0.8167115902964959\n",
            "[0.8032345  0.82210243 0.81671159 0.81132075 0.81671159] 0.8086253369272214\n",
            "[0.82210243 0.81671159 0.81132075 0.81671159 0.80862534] 0.8194070080862552\n",
            "[0.81671159 0.81132075 0.81671159 0.80862534 0.81940701] 0.8167115902964959\n",
            "[0.81132075 0.81671159 0.80862534 0.81940701 0.81671159] 0.8274932614555262\n",
            "[0.81671159 0.80862534 0.81940701 0.81671159 0.82749326] 0.8274932614555262\n",
            "[0.80862534 0.81940701 0.81671159 0.82749326 0.82749326] 0.8167115902964959\n",
            "[0.81940701 0.81671159 0.82749326 0.82749326 0.81671159] 0.8194070080862552\n",
            "[0.81671159 0.82749326 0.82749326 0.81671159 0.81940701] 0.8167115902964959\n",
            "[0.82749326 0.82749326 0.81671159 0.81940701 0.81671159] 0.8167115902964959\n",
            "[0.82749326 0.81671159 0.81940701 0.81671159 0.81671159] 0.8194070080862552\n",
            "[0.81671159 0.81940701 0.81671159 0.81671159 0.81940701] 0.8194070080862552\n",
            "[0.81940701 0.81671159 0.81671159 0.81940701 0.81940701] 0.8194070080862552\n",
            "[0.81671159 0.81671159 0.81940701 0.81940701 0.81940701] 0.830188679245282\n",
            "[0.81671159 0.81940701 0.81940701 0.81940701 0.83018868] 0.830188679245282\n",
            "[0.81940701 0.81940701 0.81940701 0.83018868 0.83018868] 0.8274932614555262\n",
            "[0.81940701 0.81940701 0.83018868 0.83018868 0.82749326] 0.8274932614555262\n",
            "[0.81940701 0.83018868 0.83018868 0.82749326 0.82749326] 0.8194070080862552\n",
            "[[0.78975741 0.77897574 0.79245283 0.79514825 0.79784367]\n",
            " [0.77897574 0.79245283 0.79514825 0.79784367 0.79245283]\n",
            " [0.79245283 0.79514825 0.79784367 0.79245283 0.79245283]\n",
            " [0.79514825 0.79784367 0.79245283 0.79245283 0.78436658]\n",
            " [0.79784367 0.79245283 0.79245283 0.78436658 0.78706199]] \n",
            "\n",
            "[0.79245283 0.79245283 0.78436658 0.78706199 0.77628032]\n"
          ]
        }
      ],
      "source": [
        "for i in range(len(test_x)):\n",
        "    print(test_x[i],test_y[i])\n",
        "\n",
        "print(train_x[:5],'\\n')\n",
        "print(train_y[:5])"
      ]
    },
    {
      "cell_type": "markdown",
      "metadata": {
        "id": "QgsZEofzx0vG"
      },
      "source": [
        "### Converting data to three-dimensional or three-channel\n",
        "- The input must be three-dimensional or three-channel, that's why we reshape it\n"
      ]
    },
    {
      "cell_type": "code",
      "execution_count": 114,
      "metadata": {
        "colab": {
          "base_uri": "https://localhost:8080/"
        },
        "id": "per3i1mlA7dU",
        "outputId": "2bdfe6c2-f8d1-4bd5-afd7-b0975043624c"
      },
      "outputs": [
        {
          "output_type": "stream",
          "name": "stdout",
          "text": [
            "(697, 5, 1)\n",
            "(170, 5, 1)\n"
          ]
        }
      ],
      "source": [
        "trainxr = np.reshape(train_x,(train_x.shape[0],train_x.shape[1], 1))\n",
        "testxr = np.reshape(test_x,(test_x.shape[0],test_x.shape[1], 1))\n",
        "\n",
        "print(trainxr.shape)\n",
        "print(testxr.shape)"
      ]
    },
    {
      "cell_type": "code",
      "execution_count": 115,
      "metadata": {
        "id": "-kOmy3vECB-s"
      },
      "outputs": [],
      "source": [
        "train_x = trainxr\n",
        "test_x = testxr"
      ]
    },
    {
      "cell_type": "code",
      "source": [
        "print(train_x.shape , train_y.shape)\n",
        "print(test_x.shape , test_y.shape)"
      ],
      "metadata": {
        "colab": {
          "base_uri": "https://localhost:8080/"
        },
        "id": "F6KXTUIu5wKh",
        "outputId": "44b5dfd4-c2dd-4afb-97e5-a2c28fe1b69b"
      },
      "execution_count": 116,
      "outputs": [
        {
          "output_type": "stream",
          "name": "stdout",
          "text": [
            "(697, 5, 1) (697,)\n",
            "(170, 5, 1) (170,)\n"
          ]
        }
      ]
    },
    {
      "cell_type": "markdown",
      "metadata": {
        "id": "DGBd2Sm4yKyS"
      },
      "source": [
        "### training model"
      ]
    },
    {
      "cell_type": "code",
      "execution_count": 117,
      "metadata": {
        "id": "hGYRpJqdCg86",
        "colab": {
          "base_uri": "https://localhost:8080/"
        },
        "outputId": "693a102d-59a2-485e-904b-2ce747fb23d4"
      },
      "outputs": [
        {
          "output_type": "stream",
          "name": "stderr",
          "text": [
            "WARNING:tensorflow:Layer lstm_4 will not use cuDNN kernels since it doesn't meet the criteria. It will use a generic GPU kernel as fallback when running on GPU.\n",
            "WARNING:tensorflow:Layer lstm_5 will not use cuDNN kernels since it doesn't meet the criteria. It will use a generic GPU kernel as fallback when running on GPU.\n"
          ]
        }
      ],
      "source": [
        "# it is often better to start with a higher learning rate, such as 0.01, and observe\n",
        "# the training progress. If you notice that the model's loss is not decreasing or if it is fluctuating\n",
        "# too much, you can reduce the learning rate to 0.0001 or even lower.\n",
        "from keras.layers import LSTM, Dense\n",
        "from keras.optimizers import Adam\n",
        "from keras.regularizers import l1, l2\n",
        "#learning_rate = 0.01\n",
        "#optimizer = Adam(learning_rate=learning_rate)\n",
        "import random\n",
        "random.seed(42)\n",
        "\n",
        "n_steps = 5\n",
        "n_features = 1\n",
        "model = Sequential()\n",
        "#model.add(LSTM(50, activation = 'relu', input_shape=(n_steps, n_features)))\n",
        "model.add(LSTM(50, activation = 'relu', input_shape=(n_steps, n_features), return_sequences=True))\n",
        "#model.add(LSTM(50, activation = 'relu'))\n",
        "model.add(LSTM(50, activation='relu', kernel_regularizer=l1(0.01)))\n",
        "\n",
        "#model.add(Dropout(0.1))\n",
        "model.add(Dense(1)) #n-output\n",
        "model.compile(optimizer='adam',loss='mse')\n"
      ]
    },
    {
      "cell_type": "code",
      "source": [
        "model.summary()"
      ],
      "metadata": {
        "colab": {
          "base_uri": "https://localhost:8080/"
        },
        "id": "rxRr_pFKVfHM",
        "outputId": "6628681e-57b2-4446-e476-25c2ad0059b6"
      },
      "execution_count": 118,
      "outputs": [
        {
          "output_type": "stream",
          "name": "stdout",
          "text": [
            "Model: \"sequential_2\"\n",
            "_________________________________________________________________\n",
            " Layer (type)                Output Shape              Param #   \n",
            "=================================================================\n",
            " lstm_4 (LSTM)               (None, 5, 50)             10400     \n",
            "                                                                 \n",
            " lstm_5 (LSTM)               (None, 50)                20200     \n",
            "                                                                 \n",
            " dense_2 (Dense)             (None, 1)                 51        \n",
            "                                                                 \n",
            "=================================================================\n",
            "Total params: 30,651\n",
            "Trainable params: 30,651\n",
            "Non-trainable params: 0\n",
            "_________________________________________________________________\n"
          ]
        }
      ]
    },
    {
      "cell_type": "code",
      "execution_count": 119,
      "metadata": {
        "colab": {
          "base_uri": "https://localhost:8080/"
        },
        "id": "xi8k3qpQDf9b",
        "outputId": "f0ab1928-f83f-454c-cce7-a2652ba58426"
      },
      "outputs": [
        {
          "output_type": "stream",
          "name": "stdout",
          "text": [
            "Epoch 1/10\n",
            "140/140 [==============================] - 7s 27ms/step - loss: 3.0275 - val_loss: 0.3174\n",
            "Epoch 2/10\n",
            "140/140 [==============================] - 3s 24ms/step - loss: 0.0804 - val_loss: 0.2027\n",
            "Epoch 3/10\n",
            "140/140 [==============================] - 3s 23ms/step - loss: 0.0614 - val_loss: 0.1982\n",
            "Epoch 4/10\n",
            "140/140 [==============================] - 4s 31ms/step - loss: 0.0540 - val_loss: 0.1948\n",
            "Epoch 5/10\n",
            "140/140 [==============================] - 3s 23ms/step - loss: 0.0493 - val_loss: 0.1927\n",
            "Epoch 6/10\n",
            "140/140 [==============================] - 3s 23ms/step - loss: 0.0466 - val_loss: 0.1920\n",
            "Epoch 7/10\n",
            "140/140 [==============================] - 4s 32ms/step - loss: 0.0450 - val_loss: 0.1857\n",
            "Epoch 8/10\n",
            "140/140 [==============================] - 4s 28ms/step - loss: 0.0429 - val_loss: 0.1784\n",
            "Epoch 9/10\n",
            "140/140 [==============================] - 3s 23ms/step - loss: 0.0412 - val_loss: 0.1669\n",
            "Epoch 10/10\n",
            "140/140 [==============================] - 4s 30ms/step - loss: 0.0385 - val_loss: 0.1524\n"
          ]
        }
      ],
      "source": [
        "#verbose is the choice that how you want to see the output of your Nural Network while it's training. If you set verbose = 0, It will show nothing\n",
        "#model.fit(train_x, train_y, epochs=50, shuffle=False, batch_size=2)\n",
        "history=model.fit(train_x, train_y, epochs=10, batch_size=5, shuffle=False, validation_data=(test_x,test_y))\n",
        "#history = model.fit(train_x, train_y, epochs=10, shuffle=False, validation_data=(test_x,test_y))\n",
        "model.reset_states()"
      ]
    },
    {
      "cell_type": "code",
      "source": [
        "# Extract training loss and validation loss from the history object\n",
        "training_loss = history.history['loss']\n",
        "validation_loss = history.history['val_loss']\n",
        "\n",
        "# Create a range of epochs for the x-axis\n",
        "epochs = range(1, len(training_loss) + 1)\n",
        "\n",
        "# Plot training loss and validation loss\n",
        "plt.figure(figsize=(10, 6))\n",
        "plt.plot(epochs, training_loss, label='Training Loss')\n",
        "plt.plot(epochs, validation_loss, label='Validation Loss')\n",
        "plt.title('Training and Validation Loss')\n",
        "plt.xlabel('Epochs')\n",
        "plt.ylabel('Loss')\n",
        "plt.legend()\n",
        "plt.show()"
      ],
      "metadata": {
        "id": "BnE9FNdgS2oa",
        "colab": {
          "base_uri": "https://localhost:8080/",
          "height": 545
        },
        "outputId": "4168801b-d9c8-48fd-c589-3e913ed6f3ca"
      },
      "execution_count": 120,
      "outputs": [
        {
          "output_type": "display_data",
          "data": {
            "text/plain": [
              "<Figure size 1000x600 with 1 Axes>"
            ],
            "image/png": "[encoded data removed]"
          },
          "metadata": {}
        }
      ]
    },
    {
      "cell_type": "markdown",
      "metadata": {
        "id": "qAHlVhouysLD"
      },
      "source": [
        "### Saving model"
      ]
    },
    {
      "cell_type": "code",
      "execution_count": 121,
      "metadata": {
        "id": "UfTT1orjzPG-"
      },
      "outputs": [],
      "source": [
        "model.save('/content/drive')"
      ]
    },
    {
      "cell_type": "code",
      "execution_count": 122,
      "metadata": {
        "id": "i8qVa0eIz18z",
        "colab": {
          "base_uri": "https://localhost:8080/"
        },
        "outputId": "6ad95ecb-a67d-4388-aa63-e8e99c542b37"
      },
      "outputs": [
        {
          "output_type": "stream",
          "name": "stderr",
          "text": [
            "WARNING:tensorflow:Layer lstm_4 will not use cuDNN kernels since it doesn't meet the criteria. It will use a generic GPU kernel as fallback when running on GPU.\n",
            "WARNING:tensorflow:Layer lstm_5 will not use cuDNN kernels since it doesn't meet the criteria. It will use a generic GPU kernel as fallback when running on GPU.\n"
          ]
        }
      ],
      "source": [
        "# loading model\n",
        "new_model = tf.keras.models.load_model('/content/drive')"
      ]
    },
    {
      "cell_type": "markdown",
      "metadata": {
        "id": "elZwPlOFy7qB"
      },
      "source": [
        "### Testing model"
      ]
    },
    {
      "cell_type": "code",
      "execution_count": 123,
      "metadata": {
        "colab": {
          "base_uri": "https://localhost:8080/"
        },
        "id": "2KnPZeVpFMv3",
        "outputId": "332c4366-8053-4890-ac6f-7fdd4cc89535"
      },
      "outputs": [
        {
          "output_type": "stream",
          "name": "stdout",
          "text": [
            "22/22 [==============================] - 0s 3ms/step\n",
            "6/6 [==============================] - 0s 4ms/step\n",
            "predicted y(train): [0.33669773 0.3369038  0.33876264 0.33890736 0.33845463]\n",
            "real y(train): [0.79245283 0.79245283 0.78436658 0.78706199 0.77628032]\n"
          ]
        }
      ],
      "source": [
        "predict_train = new_model.predict(train_x)\n",
        "predict_test = new_model.predict(test_x)\n",
        "print('predicted y(train):', np.reshape(predict_train[:5],-1))\n",
        "print('real y(train):', train_y[:5])"
      ]
    },
    {
      "cell_type": "code",
      "execution_count": 124,
      "metadata": {
        "id": "AmOKUDUKFmoB"
      },
      "outputs": [],
      "source": [
        "predict_train = scaler.inverse_transform(predict_train)\n",
        "trainy = scaler.inverse_transform([train_y])\n",
        "\n",
        "predict_test = scaler.inverse_transform(predict_test)\n",
        "testy = scaler.inverse_transform([test_y])"
      ]
    },
    {
      "cell_type": "code",
      "execution_count": 125,
      "metadata": {
        "id": "tFKYyVip_UkY",
        "colab": {
          "base_uri": "https://localhost:8080/"
        },
        "outputId": "724e9043-ab6d-4088-b53c-8f587bc99fc9"
      },
      "outputs": [
        {
          "output_type": "stream",
          "name": "stdout",
          "text": [
            "[[79.96915]\n",
            " [79.96992]\n",
            " [79.97681]\n",
            " [79.97735]\n",
            " [79.97567]]\n"
          ]
        }
      ],
      "source": [
        "print(predict_train[:5])"
      ]
    },
    {
      "cell_type": "markdown",
      "metadata": {
        "id": "SUDHtIww2Vgu"
      },
      "source": [
        "### creating df and plotting"
      ]
    },
    {
      "cell_type": "code",
      "execution_count": 126,
      "metadata": {
        "id": "-2qmJY0l1ad0",
        "colab": {
          "base_uri": "https://localhost:8080/",
          "height": 206
        },
        "outputId": "215f6e45-0252-4998-9b4a-80d95e175371"
      },
      "outputs": [
        {
          "output_type": "execute_result",
          "data": {
            "text/plain": [
              "   Predicted   real\n",
              "0  79.969147  81.66\n",
              "1  79.969917  81.66\n",
              "2  79.976807  81.63\n",
              "3  79.977348  81.64\n",
              "4  79.975670  81.60"
            ],
            "text/html": [
              "\n",
              "  <div id=\"df-8f89bf40-d24d-4ce4-9ec3-ac7d8c7e0b61\" class=\"colab-df-container\">\n",
              "    <div>\n",
              "<style scoped>\n",
              "    .dataframe tbody tr th:only-of-type {\n",
              "        vertical-align: middle;\n",
              "    }\n",
              "\n",
              "    .dataframe tbody tr th {\n",
              "        vertical-align: top;\n",
              "    }\n",
              "\n",
              "    .dataframe thead th {\n",
              "        text-align: right;\n",
              "    }\n",
              "</style>\n",
              "<table border=\"1\" class=\"dataframe\">\n",
              "  <thead>\n",
              "    <tr style=\"text-align: right;\">\n",
              "      <th></th>\n",
              "      <th>Predicted</th>\n",
              "      <th>real</th>\n",
              "    </tr>\n",
              "  </thead>\n",
              "  <tbody>\n",
              "    <tr>\n",
              "      <th>0</th>\n",
              "      <td>79.969147</td>\n",
              "      <td>81.66</td>\n",
              "    </tr>\n",
              "    <tr>\n",
              "      <th>1</th>\n",
              "      <td>79.969917</td>\n",
              "      <td>81.66</td>\n",
              "    </tr>\n",
              "    <tr>\n",
              "      <th>2</th>\n",
              "      <td>79.976807</td>\n",
              "      <td>81.63</td>\n",
              "    </tr>\n",
              "    <tr>\n",
              "      <th>3</th>\n",
              "      <td>79.977348</td>\n",
              "      <td>81.64</td>\n",
              "    </tr>\n",
              "    <tr>\n",
              "      <th>4</th>\n",
              "      <td>79.975670</td>\n",
              "      <td>81.60</td>\n",
              "    </tr>\n",
              "  </tbody>\n",
              "</table>\n",
              "</div>\n",
              "    <div class=\"colab-df-buttons\">\n",
              "\n",
              "  <div class=\"colab-df-container\">\n",
              "    <button class=\"colab-df-convert\" onclick=\"convertToInteractive('df-8f89bf40-d24d-4ce4-9ec3-ac7d8c7e0b61')\"\n",
              "            title=\"Convert this dataframe to an interactive table.\"\n",
              "            style=\"display:none;\">\n",
              "\n",
              "  <svg xmlns=\"http://www.w3.org/2000/svg\" height=\"24px\" viewBox=\"0 -960 960 960\">\n",
              "    <path d=\"M120-120v-720h720v720H120Zm60-500h600v-160H180v160Zm220 220h160v-160H400v160Zm0 220h160v-160H400v160ZM180-400h160v-160H180v160Zm440 0h160v-160H620v160ZM180-180h160v-160H180v160Zm440 0h160v-160H620v160Z\"/>\n",
              "  </svg>\n",
              "    </button>\n",
              "\n",
              "  <style>\n",
              "    .colab-df-container {\n",
              "      display:flex;\n",
              "      gap: 12px;\n",
              "    }\n",
              "\n",
              "    .colab-df-convert {\n",
              "      background-color: #E8F0FE;\n",
              "      border: none;\n",
              "      border-radius: 50%;\n",
              "      cursor: pointer;\n",
              "      display: none;\n",
              "      fill: #1967D2;\n",
              "      height: 32px;\n",
              "      padding: 0 0 0 0;\n",
              "      width: 32px;\n",
              "    }\n",
              "\n",
              "    .colab-df-convert:hover {\n",
              "      background-color: #E2EBFA;\n",
              "      box-shadow: 0px 1px 2px rgba(60, 64, 67, 0.3), 0px 1px 3px 1px rgba(60, 64, 67, 0.15);\n",
              "      fill: #174EA6;\n",
              "    }\n",
              "\n",
              "    .colab-df-buttons div {\n",
              "      margin-bottom: 4px;\n",
              "    }\n",
              "\n",
              "    [theme=dark] .colab-df-convert {\n",
              "      background-color: #3B4455;\n",
              "      fill: #D2E3FC;\n",
              "    }\n",
              "\n",
              "    [theme=dark] .colab-df-convert:hover {\n",
              "      background-color: #434B5C;\n",
              "      box-shadow: 0px 1px 3px 1px rgba(0, 0, 0, 0.15);\n",
              "      filter: drop-shadow(0px 1px 2px rgba(0, 0, 0, 0.3));\n",
              "      fill: #FFFFFF;\n",
              "    }\n",
              "  </style>\n",
              "\n",
              "    <script>\n",
              "      const buttonEl =\n",
              "        document.querySelector('#df-8f89bf40-d24d-4ce4-9ec3-ac7d8c7e0b61 button.colab-df-convert');\n",
              "      buttonEl.style.display =\n",
              "        google.colab.kernel.accessAllowed ? 'block' : 'none';\n",
              "\n",
              "      async function convertToInteractive(key) {\n",
              "        const element = document.querySelector('#df-8f89bf40-d24d-4ce4-9ec3-ac7d8c7e0b61');\n",
              "        const dataTable =\n",
              "          await google.colab.kernel.invokeFunction('convertToInteractive',\n",
              "                                                    [key], {});\n",
              "        if (!dataTable) return;\n",
              "\n",
              "        const docLinkHtml = 'Like what you see? Visit the ' +\n",
              "          '<a target=\"_blank\" href=https://colab.research.google.com/notebooks/data_table.ipynb>data table notebook</a>'\n",
              "          + ' to learn more about interactive tables.';\n",
              "        element.innerHTML = '';\n",
              "        dataTable['output_type'] = 'display_data';\n",
              "        await google.colab.output.renderOutput(dataTable, element);\n",
              "        const docLink = document.createElement('div');\n",
              "        docLink.innerHTML = docLinkHtml;\n",
              "        element.appendChild(docLink);\n",
              "      }\n",
              "    </script>\n",
              "  </div>\n",
              "\n",
              "\n",
              "<div id=\"df-6afc8b0e-4a47-4550-8d2c-6155dd4da0c1\">\n",
              "  <button class=\"colab-df-quickchart\" onclick=\"quickchart('df-6afc8b0e-4a47-4550-8d2c-6155dd4da0c1')\"\n",
              "            title=\"Suggest charts.\"\n",
              "            style=\"display:none;\">\n",
              "\n",
              "<svg xmlns=\"http://www.w3.org/2000/svg\" height=\"24px\"viewBox=\"0 0 24 24\"\n",
              "     width=\"24px\">\n",
              "    <g>\n",
              "        <path d=\"M19 3H5c-1.1 0-2 .9-2 2v14c0 1.1.9 2 2 2h14c1.1 0 2-.9 2-2V5c0-1.1-.9-2-2-2zM9 17H7v-7h2v7zm4 0h-2V7h2v10zm4 0h-2v-4h2v4z\"/>\n",
              "    </g>\n",
              "</svg>\n",
              "  </button>\n",
              "\n",
              "<style>\n",
              "  .colab-df-quickchart {\n",
              "      --bg-color: #E8F0FE;\n",
              "      --fill-color: #1967D2;\n",
              "      --hover-bg-color: #E2EBFA;\n",
              "      --hover-fill-color: #174EA6;\n",
              "      --disabled-fill-color: #AAA;\n",
              "      --disabled-bg-color: #DDD;\n",
              "  }\n",
              "\n",
              "  [theme=dark] .colab-df-quickchart {\n",
              "      --bg-color: #3B4455;\n",
              "      --fill-color: #D2E3FC;\n",
              "      --hover-bg-color: #434B5C;\n",
              "      --hover-fill-color: #FFFFFF;\n",
              "      --disabled-bg-color: #3B4455;\n",
              "      --disabled-fill-color: #666;\n",
              "  }\n",
              "\n",
              "  .colab-df-quickchart {\n",
              "    background-color: var(--bg-color);\n",
              "    border: none;\n",
              "    border-radius: 50%;\n",
              "    cursor: pointer;\n",
              "    display: none;\n",
              "    fill: var(--fill-color);\n",
              "    height: 32px;\n",
              "    padding: 0;\n",
              "    width: 32px;\n",
              "  }\n",
              "\n",
              "  .colab-df-quickchart:hover {\n",
              "    background-color: var(--hover-bg-color);\n",
              "    box-shadow: 0 1px 2px rgba(60, 64, 67, 0.3), 0 1px 3px 1px rgba(60, 64, 67, 0.15);\n",
              "    fill: var(--button-hover-fill-color);\n",
              "  }\n",
              "\n",
              "  .colab-df-quickchart-complete:disabled,\n",
              "  .colab-df-quickchart-complete:disabled:hover {\n",
              "    background-color: var(--disabled-bg-color);\n",
              "    fill: var(--disabled-fill-color);\n",
              "    box-shadow: none;\n",
              "  }\n",
              "\n",
              "  .colab-df-spinner {\n",
              "    border: 2px solid var(--fill-color);\n",
              "    border-color: transparent;\n",
              "    border-bottom-color: var(--fill-color);\n",
              "    animation:\n",
              "      spin 1s steps(1) infinite;\n",
              "  }\n",
              "\n",
              "  @keyframes spin {\n",
              "    0% {\n",
              "      border-color: transparent;\n",
              "      border-bottom-color: var(--fill-color);\n",
              "      border-left-color: var(--fill-color);\n",
              "    }\n",
              "    20% {\n",
              "      border-color: transparent;\n",
              "      border-left-color: var(--fill-color);\n",
              "      border-top-color: var(--fill-color);\n",
              "    }\n",
              "    30% {\n",
              "      border-color: transparent;\n",
              "      border-left-color: var(--fill-color);\n",
              "      border-top-color: var(--fill-color);\n",
              "      border-right-color: var(--fill-color);\n",
              "    }\n",
              "    40% {\n",
              "      border-color: transparent;\n",
              "      border-right-color: var(--fill-color);\n",
              "      border-top-color: var(--fill-color);\n",
              "    }\n",
              "    60% {\n",
              "      border-color: transparent;\n",
              "      border-right-color: var(--fill-color);\n",
              "    }\n",
              "    80% {\n",
              "      border-color: transparent;\n",
              "      border-right-color: var(--fill-color);\n",
              "      border-bottom-color: var(--fill-color);\n",
              "    }\n",
              "    90% {\n",
              "      border-color: transparent;\n",
              "      border-bottom-color: var(--fill-color);\n",
              "    }\n",
              "  }\n",
              "</style>\n",
              "\n",
              "  <script>\n",
              "    async function quickchart(key) {\n",
              "      const quickchartButtonEl =\n",
              "        document.querySelector('#' + key + ' button');\n",
              "      quickchartButtonEl.disabled = true;  // To prevent multiple clicks.\n",
              "      quickchartButtonEl.classList.add('colab-df-spinner');\n",
              "      try {\n",
              "        const charts = await google.colab.kernel.invokeFunction(\n",
              "            'suggestCharts', [key], {});\n",
              "      } catch (error) {\n",
              "        console.error('Error during call to suggestCharts:', error);\n",
              "      }\n",
              "      quickchartButtonEl.classList.remove('colab-df-spinner');\n",
              "      quickchartButtonEl.classList.add('colab-df-quickchart-complete');\n",
              "    }\n",
              "    (() => {\n",
              "      let quickchartButtonEl =\n",
              "        document.querySelector('#df-6afc8b0e-4a47-4550-8d2c-6155dd4da0c1 button');\n",
              "      quickchartButtonEl.style.display =\n",
              "        google.colab.kernel.accessAllowed ? 'block' : 'none';\n",
              "    })();\n",
              "  </script>\n",
              "</div>\n",
              "    </div>\n",
              "  </div>\n"
            ]
          },
          "metadata": {},
          "execution_count": 126
        }
      ],
      "source": [
        "Answer1 = pd.DataFrame({\n",
        "    \"Predicted\": predict_train.ravel(),\n",
        "    \"real\": trainy.ravel()\n",
        "})\n",
        "Answer1.head()"
      ]
    },
    {
      "cell_type": "code",
      "execution_count": 127,
      "metadata": {
        "id": "wLqR02U4tCOP",
        "colab": {
          "base_uri": "https://localhost:8080/",
          "height": 458
        },
        "outputId": "dff57494-f55a-4e91-f88e-184bb3c76a3f"
      },
      "outputs": [
        {
          "output_type": "display_data",
          "data": {
            "text/plain": [
              "<Figure size 1000x500 with 1 Axes>"
            ],
            "image/png": "[encoded data removed]"
          },
          "metadata": {}
        }
      ],
      "source": [
        "#train\n",
        "Answer1.plot(title=\"outcome\", figsize=(10,5));"
      ]
    },
    {
      "cell_type": "code",
      "execution_count": 128,
      "metadata": {
        "id": "KDMNKdEQF_Ps"
      },
      "outputs": [],
      "source": [
        "# xx2 = test_x.reshape(-1,1)\n",
        "# xx2 = scaler.inverse_transform(xx2)\n",
        "# xx2[:8]"
      ]
    },
    {
      "cell_type": "code",
      "execution_count": 129,
      "metadata": {
        "id": "JIA6wbWdsnKS",
        "colab": {
          "base_uri": "https://localhost:8080/",
          "height": 206
        },
        "outputId": "c1e80c77-49fb-4421-804b-83b7011bc13a"
      },
      "outputs": [
        {
          "output_type": "execute_result",
          "data": {
            "text/plain": [
              "   Predicted   real\n",
              "0  79.353546  79.28\n",
              "1  79.355705  79.30\n",
              "2  79.359131  79.46\n",
              "3  79.366615  79.41\n",
              "4  79.372589  79.47"
            ],
            "text/html": [
              "\n",
              "  <div id=\"df-1a40b8d7-0095-4a79-a1f1-dc557b0a5336\" class=\"colab-df-container\">\n",
              "    <div>\n",
              "<style scoped>\n",
              "    .dataframe tbody tr th:only-of-type {\n",
              "        vertical-align: middle;\n",
              "    }\n",
              "\n",
              "    .dataframe tbody tr th {\n",
              "        vertical-align: top;\n",
              "    }\n",
              "\n",
              "    .dataframe thead th {\n",
              "        text-align: right;\n",
              "    }\n",
              "</style>\n",
              "<table border=\"1\" class=\"dataframe\">\n",
              "  <thead>\n",
              "    <tr style=\"text-align: right;\">\n",
              "      <th></th>\n",
              "      <th>Predicted</th>\n",
              "      <th>real</th>\n",
              "    </tr>\n",
              "  </thead>\n",
              "  <tbody>\n",
              "    <tr>\n",
              "      <th>0</th>\n",
              "      <td>79.353546</td>\n",
              "      <td>79.28</td>\n",
              "    </tr>\n",
              "    <tr>\n",
              "      <th>1</th>\n",
              "      <td>79.355705</td>\n",
              "      <td>79.30</td>\n",
              "    </tr>\n",
              "    <tr>\n",
              "      <th>2</th>\n",
              "      <td>79.359131</td>\n",
              "      <td>79.46</td>\n",
              "    </tr>\n",
              "    <tr>\n",
              "      <th>3</th>\n",
              "      <td>79.366615</td>\n",
              "      <td>79.41</td>\n",
              "    </tr>\n",
              "    <tr>\n",
              "      <th>4</th>\n",
              "      <td>79.372589</td>\n",
              "      <td>79.47</td>\n",
              "    </tr>\n",
              "  </tbody>\n",
              "</table>\n",
              "</div>\n",
              "    <div class=\"colab-df-buttons\">\n",
              "\n",
              "  <div class=\"colab-df-container\">\n",
              "    <button class=\"colab-df-convert\" onclick=\"convertToInteractive('df-1a40b8d7-0095-4a79-a1f1-dc557b0a5336')\"\n",
              "            title=\"Convert this dataframe to an interactive table.\"\n",
              "            style=\"display:none;\">\n",
              "\n",
              "  <svg xmlns=\"http://www.w3.org/2000/svg\" height=\"24px\" viewBox=\"0 -960 960 960\">\n",
              "    <path d=\"M120-120v-720h720v720H120Zm60-500h600v-160H180v160Zm220 220h160v-160H400v160Zm0 220h160v-160H400v160ZM180-400h160v-160H180v160Zm440 0h160v-160H620v160ZM180-180h160v-160H180v160Zm440 0h160v-160H620v160Z\"/>\n",
              "  </svg>\n",
              "    </button>\n",
              "\n",
              "  <style>\n",
              "    .colab-df-container {\n",
              "      display:flex;\n",
              "      gap: 12px;\n",
              "    }\n",
              "\n",
              "    .colab-df-convert {\n",
              "      background-color: #E8F0FE;\n",
              "      border: none;\n",
              "      border-radius: 50%;\n",
              "      cursor: pointer;\n",
              "      display: none;\n",
              "      fill: #1967D2;\n",
              "      height: 32px;\n",
              "      padding: 0 0 0 0;\n",
              "      width: 32px;\n",
              "    }\n",
              "\n",
              "    .colab-df-convert:hover {\n",
              "      background-color: #E2EBFA;\n",
              "      box-shadow: 0px 1px 2px rgba(60, 64, 67, 0.3), 0px 1px 3px 1px rgba(60, 64, 67, 0.15);\n",
              "      fill: #174EA6;\n",
              "    }\n",
              "\n",
              "    .colab-df-buttons div {\n",
              "      margin-bottom: 4px;\n",
              "    }\n",
              "\n",
              "    [theme=dark] .colab-df-convert {\n",
              "      background-color: #3B4455;\n",
              "      fill: #D2E3FC;\n",
              "    }\n",
              "\n",
              "    [theme=dark] .colab-df-convert:hover {\n",
              "      background-color: #434B5C;\n",
              "      box-shadow: 0px 1px 3px 1px rgba(0, 0, 0, 0.15);\n",
              "      filter: drop-shadow(0px 1px 2px rgba(0, 0, 0, 0.3));\n",
              "      fill: #FFFFFF;\n",
              "    }\n",
              "  </style>\n",
              "\n",
              "    <script>\n",
              "      const buttonEl =\n",
              "        document.querySelector('#df-1a40b8d7-0095-4a79-a1f1-dc557b0a5336 button.colab-df-convert');\n",
              "      buttonEl.style.display =\n",
              "        google.colab.kernel.accessAllowed ? 'block' : 'none';\n",
              "\n",
              "      async function convertToInteractive(key) {\n",
              "        const element = document.querySelector('#df-1a40b8d7-0095-4a79-a1f1-dc557b0a5336');\n",
              "        const dataTable =\n",
              "          await google.colab.kernel.invokeFunction('convertToInteractive',\n",
              "                                                    [key], {});\n",
              "        if (!dataTable) return;\n",
              "\n",
              "        const docLinkHtml = 'Like what you see? Visit the ' +\n",
              "          '<a target=\"_blank\" href=https://colab.research.google.com/notebooks/data_table.ipynb>data table notebook</a>'\n",
              "          + ' to learn more about interactive tables.';\n",
              "        element.innerHTML = '';\n",
              "        dataTable['output_type'] = 'display_data';\n",
              "        await google.colab.output.renderOutput(dataTable, element);\n",
              "        const docLink = document.createElement('div');\n",
              "        docLink.innerHTML = docLinkHtml;\n",
              "        element.appendChild(docLink);\n",
              "      }\n",
              "    </script>\n",
              "  </div>\n",
              "\n",
              "\n",
              "<div id=\"df-8e679de0-fa5c-439c-a5fd-3167e4c4af75\">\n",
              "  <button class=\"colab-df-quickchart\" onclick=\"quickchart('df-8e679de0-fa5c-439c-a5fd-3167e4c4af75')\"\n",
              "            title=\"Suggest charts.\"\n",
              "            style=\"display:none;\">\n",
              "\n",
              "<svg xmlns=\"http://www.w3.org/2000/svg\" height=\"24px\"viewBox=\"0 0 24 24\"\n",
              "     width=\"24px\">\n",
              "    <g>\n",
              "        <path d=\"M19 3H5c-1.1 0-2 .9-2 2v14c0 1.1.9 2 2 2h14c1.1 0 2-.9 2-2V5c0-1.1-.9-2-2-2zM9 17H7v-7h2v7zm4 0h-2V7h2v10zm4 0h-2v-4h2v4z\"/>\n",
              "    </g>\n",
              "</svg>\n",
              "  </button>\n",
              "\n",
              "<style>\n",
              "  .colab-df-quickchart {\n",
              "      --bg-color: #E8F0FE;\n",
              "      --fill-color: #1967D2;\n",
              "      --hover-bg-color: #E2EBFA;\n",
              "      --hover-fill-color: #174EA6;\n",
              "      --disabled-fill-color: #AAA;\n",
              "      --disabled-bg-color: #DDD;\n",
              "  }\n",
              "\n",
              "  [theme=dark] .colab-df-quickchart {\n",
              "      --bg-color: #3B4455;\n",
              "      --fill-color: #D2E3FC;\n",
              "      --hover-bg-color: #434B5C;\n",
              "      --hover-fill-color: #FFFFFF;\n",
              "      --disabled-bg-color: #3B4455;\n",
              "      --disabled-fill-color: #666;\n",
              "  }\n",
              "\n",
              "  .colab-df-quickchart {\n",
              "    background-color: var(--bg-color);\n",
              "    border: none;\n",
              "    border-radius: 50%;\n",
              "    cursor: pointer;\n",
              "    display: none;\n",
              "    fill: var(--fill-color);\n",
              "    height: 32px;\n",
              "    padding: 0;\n",
              "    width: 32px;\n",
              "  }\n",
              "\n",
              "  .colab-df-quickchart:hover {\n",
              "    background-color: var(--hover-bg-color);\n",
              "    box-shadow: 0 1px 2px rgba(60, 64, 67, 0.3), 0 1px 3px 1px rgba(60, 64, 67, 0.15);\n",
              "    fill: var(--button-hover-fill-color);\n",
              "  }\n",
              "\n",
              "  .colab-df-quickchart-complete:disabled,\n",
              "  .colab-df-quickchart-complete:disabled:hover {\n",
              "    background-color: var(--disabled-bg-color);\n",
              "    fill: var(--disabled-fill-color);\n",
              "    box-shadow: none;\n",
              "  }\n",
              "\n",
              "  .colab-df-spinner {\n",
              "    border: 2px solid var(--fill-color);\n",
              "    border-color: transparent;\n",
              "    border-bottom-color: var(--fill-color);\n",
              "    animation:\n",
              "      spin 1s steps(1) infinite;\n",
              "  }\n",
              "\n",
              "  @keyframes spin {\n",
              "    0% {\n",
              "      border-color: transparent;\n",
              "      border-bottom-color: var(--fill-color);\n",
              "      border-left-color: var(--fill-color);\n",
              "    }\n",
              "    20% {\n",
              "      border-color: transparent;\n",
              "      border-left-color: var(--fill-color);\n",
              "      border-top-color: var(--fill-color);\n",
              "    }\n",
              "    30% {\n",
              "      border-color: transparent;\n",
              "      border-left-color: var(--fill-color);\n",
              "      border-top-color: var(--fill-color);\n",
              "      border-right-color: var(--fill-color);\n",
              "    }\n",
              "    40% {\n",
              "      border-color: transparent;\n",
              "      border-right-color: var(--fill-color);\n",
              "      border-top-color: var(--fill-color);\n",
              "    }\n",
              "    60% {\n",
              "      border-color: transparent;\n",
              "      border-right-color: var(--fill-color);\n",
              "    }\n",
              "    80% {\n",
              "      border-color: transparent;\n",
              "      border-right-color: var(--fill-color);\n",
              "      border-bottom-color: var(--fill-color);\n",
              "    }\n",
              "    90% {\n",
              "      border-color: transparent;\n",
              "      border-bottom-color: var(--fill-color);\n",
              "    }\n",
              "  }\n",
              "</style>\n",
              "\n",
              "  <script>\n",
              "    async function quickchart(key) {\n",
              "      const quickchartButtonEl =\n",
              "        document.querySelector('#' + key + ' button');\n",
              "      quickchartButtonEl.disabled = true;  // To prevent multiple clicks.\n",
              "      quickchartButtonEl.classList.add('colab-df-spinner');\n",
              "      try {\n",
              "        const charts = await google.colab.kernel.invokeFunction(\n",
              "            'suggestCharts', [key], {});\n",
              "      } catch (error) {\n",
              "        console.error('Error during call to suggestCharts:', error);\n",
              "      }\n",
              "      quickchartButtonEl.classList.remove('colab-df-spinner');\n",
              "      quickchartButtonEl.classList.add('colab-df-quickchart-complete');\n",
              "    }\n",
              "    (() => {\n",
              "      let quickchartButtonEl =\n",
              "        document.querySelector('#df-8e679de0-fa5c-439c-a5fd-3167e4c4af75 button');\n",
              "      quickchartButtonEl.style.display =\n",
              "        google.colab.kernel.accessAllowed ? 'block' : 'none';\n",
              "    })();\n",
              "  </script>\n",
              "</div>\n",
              "    </div>\n",
              "  </div>\n"
            ]
          },
          "metadata": {},
          "execution_count": 129
        }
      ],
      "source": [
        "Answer2 = pd.DataFrame({\n",
        "    \"Predicted\": predict_test.ravel(),\n",
        "    \"real\": testy.ravel()\n",
        "})\n",
        "Answer2.head()"
      ]
    },
    {
      "cell_type": "code",
      "source": [
        "#test\n",
        "Answer2.plot(title=\"outcome\", figsize=(10,5));"
      ],
      "metadata": {
        "id": "K9PxeOzvy8zf",
        "colab": {
          "base_uri": "https://localhost:8080/",
          "height": 457
        },
        "outputId": "42ed545a-f855-4d13-aa70-5642ef4eced6"
      },
      "execution_count": 130,
      "outputs": [
        {
          "output_type": "display_data",
          "data": {
            "text/plain": [
              "<Figure size 1000x500 with 1 Axes>"
            ],
            "image/png": "[encoded data removed]"
          },
          "metadata": {}
        }
      ]
    },
    {
      "cell_type": "markdown",
      "metadata": {
        "id": "xuzekfZ4zHJz"
      },
      "source": [
        "### Evaluate the model"
      ]
    },
    {
      "cell_type": "code",
      "execution_count": 131,
      "metadata": {
        "id": "Hi1-xIZhxGOt",
        "colab": {
          "base_uri": "https://localhost:8080/"
        },
        "outputId": "54af1a7f-faa1-46da-ac4a-96ca8b760472"
      },
      "outputs": [
        {
          "output_type": "stream",
          "name": "stdout",
          "text": [
            "6/6 [==============================] - 0s 4ms/step - loss: 0.1524\n"
          ]
        },
        {
          "output_type": "execute_result",
          "data": {
            "text/plain": [
              "0.15244439244270325"
            ]
          },
          "metadata": {},
          "execution_count": 131
        }
      ],
      "source": [
        "model.evaluate(test_x, test_y)"
      ]
    },
    {
      "cell_type": "code",
      "execution_count": 132,
      "metadata": {
        "id": "EkPDtFgDJPwf"
      },
      "outputs": [],
      "source": [
        "#train_score = math.sqrt(mean_squared_error(trainy.reshape(-1),predict_train))\n",
        "#print('rmse ', train_score)\n",
        "#test_score = math.sqrt(mean_squared_error(test_y.reshape(-1),predict_test))\n",
        "#print('rmse ', test_score)"
      ]
    },
    {
      "cell_type": "markdown",
      "source": [
        "# Forecasting\n"
      ],
      "metadata": {
        "id": "Abla6EbUCX0X"
      }
    },
    {
      "cell_type": "code",
      "source": [
        "# Generate input for forecasting next 10 predictions\n",
        "\n",
        "last_sequence = test_y[-n_steps:]  # Use the last n_steps data from the test set\n",
        "forecast_input = np.array([last_sequence])\n",
        "\n",
        "# Reshape the forecast input to match the input shape of the LSTM model\n",
        "forecast_input = forecast_input.reshape((forecast_input.shape[0], n_steps, n_features))\n",
        "\n",
        "# Make predictions for the next 10 days\n",
        "forecast = []\n",
        "for _ in range(10):\n",
        "    next_pred = model.predict(forecast_input)\n",
        "    forecast.append(next_pred)\n",
        "    forecast_input = np.roll(forecast_input, -1)\n",
        "    forecast_input[-1, -1, 0] = next_pred  # Update the last value in the input with the new prediction\n",
        "\n",
        "# Reshape forecast array to 2D (n_samples, n_features)\n",
        "forecast = np.array(forecast).reshape(-1, 1)\n",
        "\n",
        "# Denormalize forecasted values\n",
        "forecast = scaler.inverse_transform(forecast)\n",
        "\n",
        "# Display forecast for the next 10 predictions\n",
        "print(\"Forecast for the next 5 predictions:\", forecast.flatten())\n",
        "\n"
      ],
      "metadata": {
        "id": "ZoH_pC6-pfjy",
        "colab": {
          "base_uri": "https://localhost:8080/"
        },
        "outputId": "1f2bcd70-8efa-4ba6-8cba-4d16e3683e2b"
      },
      "execution_count": 133,
      "outputs": [
        {
          "output_type": "stream",
          "name": "stdout",
          "text": [
            "1/1 [==============================] - 0s 249ms/step\n",
            "1/1 [==============================] - 0s 19ms/step\n",
            "1/1 [==============================] - 0s 18ms/step\n",
            "1/1 [==============================] - 0s 24ms/step\n",
            "1/1 [==============================] - 0s 28ms/step\n",
            "1/1 [==============================] - 0s 19ms/step\n",
            "1/1 [==============================] - 0s 21ms/step\n",
            "1/1 [==============================] - 0s 18ms/step\n",
            "1/1 [==============================] - 0s 18ms/step\n",
            "1/1 [==============================] - 0s 23ms/step\n",
            "Forecast for the next 5 predictions: [80.01816  79.99809  79.93879  79.8334   79.67913  79.49764  79.48435\n",
            " 79.46464  79.441475 79.41929 ]\n"
          ]
        }
      ]
    },
    {
      "cell_type": "code",
      "source": [
        "#Create a DataFrame\n",
        "output_df = pd.DataFrame(forecast, columns=['Predicting close'])\n",
        "\n",
        "#Export DataFrame to an CSV file\n",
        "output_csv_path = 'Predictions'\n",
        "output_df.to_csv(output_csv_path, index=False)"
      ],
      "metadata": {
        "id": "dsQSDN4y3iD0"
      },
      "execution_count": 134,
      "outputs": []
    },
    {
      "cell_type": "code",
      "source": [
        "# Assuming actual_values and predicted_values are your arrays/lists of actual and predicted values\n",
        "mse = mean_squared_error(df['close'][:10], forecast)\n",
        "print(\"Mean Squared Error:\", mse)"
      ],
      "metadata": {
        "colab": {
          "base_uri": "https://localhost:8080/"
        },
        "id": "NPp-sUZ3opMr",
        "outputId": "6107094a-1396-4cd8-acd0-3c1eab2875ba"
      },
      "execution_count": 135,
      "outputs": [
        {
          "output_type": "stream",
          "name": "stdout",
          "text": [
            "Mean Squared Error: 3.928735110278313\n"
          ]
        }
      ]
    },
    {
      "cell_type": "code",
      "source": [
        "tf.saved_model.save(model, 'saved_model')"
      ],
      "metadata": {
        "id": "rpI7dtlJabji"
      },
      "execution_count": 136,
      "outputs": []
    }
  ],
  "metadata": {
    "accelerator": "GPU",
    "colab": {
      "provenance": [],
      "include_colab_link": true
    },
    "gpuClass": "standard",
    "kernelspec": {
      "display_name": "Python 3 (ipykernel)",
      "language": "python",
      "name": "python3"
    },
    "language_info": {
      "codemirror_mode": {
        "name": "ipython",
        "version": 3
      },
      "file_extension": ".py",
      "mimetype": "text/x-python",
      "name": "python",
      "nbconvert_exporter": "python",
      "pygments_lexer": "ipython3",
      "version": "3.8.10"
    }
  },
  "nbformat": 4,
  "nbformat_minor": 0
}